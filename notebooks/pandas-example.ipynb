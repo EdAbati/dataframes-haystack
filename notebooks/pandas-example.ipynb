{
 "cells": [
  {
   "cell_type": "markdown",
   "metadata": {},
   "source": [
    "# Using `pandas` with `dataframe-haystack`\n",
    "\n",
    "[![Open In Colab](https://colab.research.google.com/assets/colab-badge.svg)](https://colab.research.google.com/github/EdAbati/dataframes-haystack/blob/main/notebooks/pandas-example.ipynb)\n"
   ]
  },
  {
   "cell_type": "code",
   "execution_count": 1,
   "metadata": {},
   "outputs": [],
   "source": [
    "# when running in Google Colab (or similar), install the following packages\n",
    "# !pip install dataframe-haystack arxiv"
   ]
  },
  {
   "cell_type": "code",
   "execution_count": 2,
   "metadata": {},
   "outputs": [],
   "source": [
    "import pandas as pd"
   ]
  },
  {
   "cell_type": "markdown",
   "metadata": {},
   "source": [
    "## Downloading the dataset\n",
    "\n",
    "We are using a dataset that contains abstracts of papers uploaded on arXiv. We are using the arXiv API to get the data."
   ]
  },
  {
   "cell_type": "code",
   "execution_count": 3,
   "metadata": {},
   "outputs": [],
   "source": [
    "def get_arxiv_data(search_query: str, max_num_rows: int = 10) -> pd.DataFrame:\n",
    "    \"\"\"Get data using the arXiv API.\"\"\"\n",
    "    import arxiv\n",
    "\n",
    "    arxiv_client = arxiv.Client()\n",
    "\n",
    "    search = arxiv.Search(query=search_query, max_results=max_num_rows, sort_by=arxiv.SortCriterion.Relevance)\n",
    "    results_list = [\n",
    "        {\n",
    "            \"title\": result.title,\n",
    "            \"authors\": [author.name for author in result.authors],\n",
    "            \"summary\": result.summary,\n",
    "            \"published\": result.published,\n",
    "            \"primary_category\": result.primary_category,\n",
    "            \"categories\": result.categories,\n",
    "            \"pdf_url\": result.pdf_url,\n",
    "            \"entry_id\": result.entry_id,\n",
    "        }\n",
    "        for result in arxiv_client.results(search)\n",
    "    ]\n",
    "    return pd.DataFrame(results_list)"
   ]
  },
  {
   "cell_type": "markdown",
   "metadata": {},
   "source": [
    "We will have a dataset of 10 rows with papers about LLMs."
   ]
  },
  {
   "cell_type": "code",
   "execution_count": 4,
   "metadata": {},
   "outputs": [
    {
     "data": {
      "text/html": [
       "<div>\n",
       "<style scoped>\n",
       "    .dataframe tbody tr th:only-of-type {\n",
       "        vertical-align: middle;\n",
       "    }\n",
       "\n",
       "    .dataframe tbody tr th {\n",
       "        vertical-align: top;\n",
       "    }\n",
       "\n",
       "    .dataframe thead th {\n",
       "        text-align: right;\n",
       "    }\n",
       "</style>\n",
       "<table border=\"1\" class=\"dataframe\">\n",
       "  <thead>\n",
       "    <tr style=\"text-align: right;\">\n",
       "      <th></th>\n",
       "      <th>title</th>\n",
       "      <th>authors</th>\n",
       "      <th>summary</th>\n",
       "      <th>published</th>\n",
       "      <th>primary_category</th>\n",
       "      <th>categories</th>\n",
       "      <th>pdf_url</th>\n",
       "      <th>entry_id</th>\n",
       "    </tr>\n",
       "  </thead>\n",
       "  <tbody>\n",
       "    <tr>\n",
       "      <th>0</th>\n",
       "      <td>Large Language Models as Software Components: ...</td>\n",
       "      <td>[Irene Weber]</td>\n",
       "      <td>Large Language Models (LLMs) have become widel...</td>\n",
       "      <td>2024-06-13 21:32:56+00:00</td>\n",
       "      <td>cs.SE</td>\n",
       "      <td>[cs.SE, cs.CL, cs.LG, A.1; I.2.7; D.2.11]</td>\n",
       "      <td>http://arxiv.org/pdf/2406.10300v1</td>\n",
       "      <td>http://arxiv.org/abs/2406.10300v1</td>\n",
       "    </tr>\n",
       "    <tr>\n",
       "      <th>1</th>\n",
       "      <td>Parrot: Efficient Serving of LLM-based Applica...</td>\n",
       "      <td>[Chaofan Lin, Zhenhua Han, Chengruidong Zhang,...</td>\n",
       "      <td>The rise of large language models (LLMs) has e...</td>\n",
       "      <td>2024-05-30 09:46:36+00:00</td>\n",
       "      <td>cs.LG</td>\n",
       "      <td>[cs.LG, cs.AI]</td>\n",
       "      <td>http://arxiv.org/pdf/2405.19888v1</td>\n",
       "      <td>http://arxiv.org/abs/2405.19888v1</td>\n",
       "    </tr>\n",
       "    <tr>\n",
       "      <th>2</th>\n",
       "      <td>A Survey of Large Language Models for Code: Ev...</td>\n",
       "      <td>[Zibin Zheng, Kaiwen Ning, Yanlin Wang, Jingwe...</td>\n",
       "      <td>General large language models (LLMs), represen...</td>\n",
       "      <td>2023-11-17 07:55:16+00:00</td>\n",
       "      <td>cs.SE</td>\n",
       "      <td>[cs.SE]</td>\n",
       "      <td>http://arxiv.org/pdf/2311.10372v2</td>\n",
       "      <td>http://arxiv.org/abs/2311.10372v2</td>\n",
       "    </tr>\n",
       "    <tr>\n",
       "      <th>3</th>\n",
       "      <td>A Survey of Large Language Models on Generativ...</td>\n",
       "      <td>[Wenbo Shang, Xin Huang]</td>\n",
       "      <td>A graph is a fundamental data model to represe...</td>\n",
       "      <td>2024-04-23 07:39:24+00:00</td>\n",
       "      <td>cs.CL</td>\n",
       "      <td>[cs.CL, cs.AI, cs.DB]</td>\n",
       "      <td>http://arxiv.org/pdf/2404.14809v1</td>\n",
       "      <td>http://arxiv.org/abs/2404.14809v1</td>\n",
       "    </tr>\n",
       "    <tr>\n",
       "      <th>4</th>\n",
       "      <td>TEST: Text Prototype Aligned Embedding to Acti...</td>\n",
       "      <td>[Chenxi Sun, Hongyan Li, Yaliang Li, Shenda Hong]</td>\n",
       "      <td>This work summarizes two ways to accomplish Ti...</td>\n",
       "      <td>2023-08-16 09:16:02+00:00</td>\n",
       "      <td>cs.CL</td>\n",
       "      <td>[cs.CL, cs.AI]</td>\n",
       "      <td>http://arxiv.org/pdf/2308.08241v2</td>\n",
       "      <td>http://arxiv.org/abs/2308.08241v2</td>\n",
       "    </tr>\n",
       "  </tbody>\n",
       "</table>\n",
       "</div>"
      ],
      "text/plain": [
       "                                               title  \\\n",
       "0  Large Language Models as Software Components: ...   \n",
       "1  Parrot: Efficient Serving of LLM-based Applica...   \n",
       "2  A Survey of Large Language Models for Code: Ev...   \n",
       "3  A Survey of Large Language Models on Generativ...   \n",
       "4  TEST: Text Prototype Aligned Embedding to Acti...   \n",
       "\n",
       "                                             authors  \\\n",
       "0                                      [Irene Weber]   \n",
       "1  [Chaofan Lin, Zhenhua Han, Chengruidong Zhang,...   \n",
       "2  [Zibin Zheng, Kaiwen Ning, Yanlin Wang, Jingwe...   \n",
       "3                           [Wenbo Shang, Xin Huang]   \n",
       "4  [Chenxi Sun, Hongyan Li, Yaliang Li, Shenda Hong]   \n",
       "\n",
       "                                             summary  \\\n",
       "0  Large Language Models (LLMs) have become widel...   \n",
       "1  The rise of large language models (LLMs) has e...   \n",
       "2  General large language models (LLMs), represen...   \n",
       "3  A graph is a fundamental data model to represe...   \n",
       "4  This work summarizes two ways to accomplish Ti...   \n",
       "\n",
       "                  published primary_category  \\\n",
       "0 2024-06-13 21:32:56+00:00            cs.SE   \n",
       "1 2024-05-30 09:46:36+00:00            cs.LG   \n",
       "2 2023-11-17 07:55:16+00:00            cs.SE   \n",
       "3 2024-04-23 07:39:24+00:00            cs.CL   \n",
       "4 2023-08-16 09:16:02+00:00            cs.CL   \n",
       "\n",
       "                                  categories  \\\n",
       "0  [cs.SE, cs.CL, cs.LG, A.1; I.2.7; D.2.11]   \n",
       "1                             [cs.LG, cs.AI]   \n",
       "2                                    [cs.SE]   \n",
       "3                      [cs.CL, cs.AI, cs.DB]   \n",
       "4                             [cs.CL, cs.AI]   \n",
       "\n",
       "                             pdf_url                           entry_id  \n",
       "0  http://arxiv.org/pdf/2406.10300v1  http://arxiv.org/abs/2406.10300v1  \n",
       "1  http://arxiv.org/pdf/2405.19888v1  http://arxiv.org/abs/2405.19888v1  \n",
       "2  http://arxiv.org/pdf/2311.10372v2  http://arxiv.org/abs/2311.10372v2  \n",
       "3  http://arxiv.org/pdf/2404.14809v1  http://arxiv.org/abs/2404.14809v1  \n",
       "4  http://arxiv.org/pdf/2308.08241v2  http://arxiv.org/abs/2308.08241v2  "
      ]
     },
     "execution_count": 4,
     "metadata": {},
     "output_type": "execute_result"
    }
   ],
   "source": [
    "df = get_arxiv_data(\"llm\", max_num_rows=10)\n",
    "df.head()"
   ]
  },
  {
   "cell_type": "markdown",
   "metadata": {},
   "source": [
    "Saving the data in a temporary file."
   ]
  },
  {
   "cell_type": "code",
   "execution_count": 5,
   "metadata": {},
   "outputs": [],
   "source": [
    "import tempfile\n",
    "\n",
    "# create a temporary file\n",
    "temp_file = tempfile.NamedTemporaryFile(delete=False, suffix=\".csv\")\n",
    "\n",
    "# write the dataframe to the temporary file\n",
    "with open(temp_file.name, \"w\") as f:\n",
    "    df.to_csv(f, index=False)"
   ]
  },
  {
   "cell_type": "markdown",
   "metadata": {},
   "source": [
    "## Loading the data in `haystack`\n",
    "\n",
    "We can read the data using a `FileToPandasDataFrame` and convert the rows into `Document`s using a `PandasDataFrameConverter` component."
   ]
  },
  {
   "cell_type": "code",
   "execution_count": 6,
   "metadata": {},
   "outputs": [],
   "source": [
    "from dataframes_haystack.components.converters.pandas import FileToPandasDataFrame, PandasDataFrameConverter"
   ]
  },
  {
   "cell_type": "code",
   "execution_count": 7,
   "metadata": {},
   "outputs": [],
   "source": [
    "file_to_pandas = FileToPandasDataFrame(file_format=\"csv\")"
   ]
  },
  {
   "cell_type": "code",
   "execution_count": 8,
   "metadata": {},
   "outputs": [],
   "source": [
    "output_dataframe = file_to_pandas.run(file_paths=[temp_file.name])"
   ]
  },
  {
   "cell_type": "code",
   "execution_count": 9,
   "metadata": {},
   "outputs": [
    {
     "data": {
      "text/plain": [
       "dict_keys(['dataframe'])"
      ]
     },
     "execution_count": 9,
     "metadata": {},
     "output_type": "execute_result"
    }
   ],
   "source": [
    "# the output_dataframe is a dictionary with a dataframe key\n",
    "output_dataframe.keys()"
   ]
  },
  {
   "cell_type": "code",
   "execution_count": 10,
   "metadata": {},
   "outputs": [
    {
     "data": {
      "text/html": [
       "<div>\n",
       "<style scoped>\n",
       "    .dataframe tbody tr th:only-of-type {\n",
       "        vertical-align: middle;\n",
       "    }\n",
       "\n",
       "    .dataframe tbody tr th {\n",
       "        vertical-align: top;\n",
       "    }\n",
       "\n",
       "    .dataframe thead th {\n",
       "        text-align: right;\n",
       "    }\n",
       "</style>\n",
       "<table border=\"1\" class=\"dataframe\">\n",
       "  <thead>\n",
       "    <tr style=\"text-align: right;\">\n",
       "      <th></th>\n",
       "      <th>title</th>\n",
       "      <th>authors</th>\n",
       "      <th>summary</th>\n",
       "      <th>published</th>\n",
       "      <th>primary_category</th>\n",
       "      <th>categories</th>\n",
       "      <th>pdf_url</th>\n",
       "      <th>entry_id</th>\n",
       "    </tr>\n",
       "  </thead>\n",
       "  <tbody>\n",
       "    <tr>\n",
       "      <th>0</th>\n",
       "      <td>Large Language Models as Software Components: ...</td>\n",
       "      <td>['Irene Weber']</td>\n",
       "      <td>Large Language Models (LLMs) have become widel...</td>\n",
       "      <td>2024-06-13 21:32:56+00:00</td>\n",
       "      <td>cs.SE</td>\n",
       "      <td>['cs.SE', 'cs.CL', 'cs.LG', 'A.1; I.2.7; D.2.11']</td>\n",
       "      <td>http://arxiv.org/pdf/2406.10300v1</td>\n",
       "      <td>http://arxiv.org/abs/2406.10300v1</td>\n",
       "    </tr>\n",
       "    <tr>\n",
       "      <th>1</th>\n",
       "      <td>Parrot: Efficient Serving of LLM-based Applica...</td>\n",
       "      <td>['Chaofan Lin', 'Zhenhua Han', 'Chengruidong Z...</td>\n",
       "      <td>The rise of large language models (LLMs) has e...</td>\n",
       "      <td>2024-05-30 09:46:36+00:00</td>\n",
       "      <td>cs.LG</td>\n",
       "      <td>['cs.LG', 'cs.AI']</td>\n",
       "      <td>http://arxiv.org/pdf/2405.19888v1</td>\n",
       "      <td>http://arxiv.org/abs/2405.19888v1</td>\n",
       "    </tr>\n",
       "    <tr>\n",
       "      <th>2</th>\n",
       "      <td>A Survey of Large Language Models for Code: Ev...</td>\n",
       "      <td>['Zibin Zheng', 'Kaiwen Ning', 'Yanlin Wang', ...</td>\n",
       "      <td>General large language models (LLMs), represen...</td>\n",
       "      <td>2023-11-17 07:55:16+00:00</td>\n",
       "      <td>cs.SE</td>\n",
       "      <td>['cs.SE']</td>\n",
       "      <td>http://arxiv.org/pdf/2311.10372v2</td>\n",
       "      <td>http://arxiv.org/abs/2311.10372v2</td>\n",
       "    </tr>\n",
       "    <tr>\n",
       "      <th>3</th>\n",
       "      <td>A Survey of Large Language Models on Generativ...</td>\n",
       "      <td>['Wenbo Shang', 'Xin Huang']</td>\n",
       "      <td>A graph is a fundamental data model to represe...</td>\n",
       "      <td>2024-04-23 07:39:24+00:00</td>\n",
       "      <td>cs.CL</td>\n",
       "      <td>['cs.CL', 'cs.AI', 'cs.DB']</td>\n",
       "      <td>http://arxiv.org/pdf/2404.14809v1</td>\n",
       "      <td>http://arxiv.org/abs/2404.14809v1</td>\n",
       "    </tr>\n",
       "    <tr>\n",
       "      <th>4</th>\n",
       "      <td>TEST: Text Prototype Aligned Embedding to Acti...</td>\n",
       "      <td>['Chenxi Sun', 'Hongyan Li', 'Yaliang Li', 'Sh...</td>\n",
       "      <td>This work summarizes two ways to accomplish Ti...</td>\n",
       "      <td>2023-08-16 09:16:02+00:00</td>\n",
       "      <td>cs.CL</td>\n",
       "      <td>['cs.CL', 'cs.AI']</td>\n",
       "      <td>http://arxiv.org/pdf/2308.08241v2</td>\n",
       "      <td>http://arxiv.org/abs/2308.08241v2</td>\n",
       "    </tr>\n",
       "  </tbody>\n",
       "</table>\n",
       "</div>"
      ],
      "text/plain": [
       "                                               title  \\\n",
       "0  Large Language Models as Software Components: ...   \n",
       "1  Parrot: Efficient Serving of LLM-based Applica...   \n",
       "2  A Survey of Large Language Models for Code: Ev...   \n",
       "3  A Survey of Large Language Models on Generativ...   \n",
       "4  TEST: Text Prototype Aligned Embedding to Acti...   \n",
       "\n",
       "                                             authors  \\\n",
       "0                                    ['Irene Weber']   \n",
       "1  ['Chaofan Lin', 'Zhenhua Han', 'Chengruidong Z...   \n",
       "2  ['Zibin Zheng', 'Kaiwen Ning', 'Yanlin Wang', ...   \n",
       "3                       ['Wenbo Shang', 'Xin Huang']   \n",
       "4  ['Chenxi Sun', 'Hongyan Li', 'Yaliang Li', 'Sh...   \n",
       "\n",
       "                                             summary  \\\n",
       "0  Large Language Models (LLMs) have become widel...   \n",
       "1  The rise of large language models (LLMs) has e...   \n",
       "2  General large language models (LLMs), represen...   \n",
       "3  A graph is a fundamental data model to represe...   \n",
       "4  This work summarizes two ways to accomplish Ti...   \n",
       "\n",
       "                   published primary_category  \\\n",
       "0  2024-06-13 21:32:56+00:00            cs.SE   \n",
       "1  2024-05-30 09:46:36+00:00            cs.LG   \n",
       "2  2023-11-17 07:55:16+00:00            cs.SE   \n",
       "3  2024-04-23 07:39:24+00:00            cs.CL   \n",
       "4  2023-08-16 09:16:02+00:00            cs.CL   \n",
       "\n",
       "                                          categories  \\\n",
       "0  ['cs.SE', 'cs.CL', 'cs.LG', 'A.1; I.2.7; D.2.11']   \n",
       "1                                 ['cs.LG', 'cs.AI']   \n",
       "2                                          ['cs.SE']   \n",
       "3                        ['cs.CL', 'cs.AI', 'cs.DB']   \n",
       "4                                 ['cs.CL', 'cs.AI']   \n",
       "\n",
       "                             pdf_url                           entry_id  \n",
       "0  http://arxiv.org/pdf/2406.10300v1  http://arxiv.org/abs/2406.10300v1  \n",
       "1  http://arxiv.org/pdf/2405.19888v1  http://arxiv.org/abs/2405.19888v1  \n",
       "2  http://arxiv.org/pdf/2311.10372v2  http://arxiv.org/abs/2311.10372v2  \n",
       "3  http://arxiv.org/pdf/2404.14809v1  http://arxiv.org/abs/2404.14809v1  \n",
       "4  http://arxiv.org/pdf/2308.08241v2  http://arxiv.org/abs/2308.08241v2  "
      ]
     },
     "execution_count": 10,
     "metadata": {},
     "output_type": "execute_result"
    }
   ],
   "source": [
    "output_dataframe[\"dataframe\"].head()"
   ]
  },
  {
   "cell_type": "code",
   "execution_count": 11,
   "metadata": {},
   "outputs": [],
   "source": [
    "pandas_converter = PandasDataFrameConverter(\n",
    "    content_column=\"summary\",\n",
    "    meta_columns=[\"title\", \"authors\", \"published\", \"primary_category\", \"categories\", \"pdf_url\"],\n",
    ")"
   ]
  },
  {
   "cell_type": "code",
   "execution_count": 12,
   "metadata": {},
   "outputs": [
    {
     "data": {
      "text/plain": [
       "{'documents': [Document(id=9cc8974e10748c08b9dceaa8c30d43f669be68507bb894de7dc7859705405413, content: 'Large Language Models (LLMs) have become widely adopted recently. Research\n",
       "  explores their use both a...', meta: {'title': 'Large Language Models as Software Components: A Taxonomy for LLM-Integrated Applications', 'authors': \"['Irene Weber']\", 'published': '2024-06-13 21:32:56+00:00', 'primary_category': 'cs.SE', 'categories': \"['cs.SE', 'cs.CL', 'cs.LG', 'A.1; I.2.7; D.2.11']\", 'pdf_url': 'http://arxiv.org/pdf/2406.10300v1'}),\n",
       "  Document(id=f90081e94dc913433a91bb8e77e6179a9d63749891f9215fc1c9e2627995e152, content: 'The rise of large language models (LLMs) has enabled LLM-based applications\n",
       "  (a.k.a. AI agents or co-...', meta: {'title': 'Parrot: Efficient Serving of LLM-based Applications with Semantic Variable', 'authors': \"['Chaofan Lin', 'Zhenhua Han', 'Chengruidong Zhang', 'Yuqing Yang', 'Fan Yang', 'Chen Chen', 'Lili Qiu']\", 'published': '2024-05-30 09:46:36+00:00', 'primary_category': 'cs.LG', 'categories': \"['cs.LG', 'cs.AI']\", 'pdf_url': 'http://arxiv.org/pdf/2405.19888v1'}),\n",
       "  Document(id=4d1e020feec9aea5a9dec6856ebe956bf8e25900ecf3bf4e4308c7729c4e2202, content: 'General large language models (LLMs), represented by ChatGPT, have\n",
       "  demonstrated significant potentia...', meta: {'title': 'A Survey of Large Language Models for Code: Evolution, Benchmarking, and Future Trends', 'authors': \"['Zibin Zheng', 'Kaiwen Ning', 'Yanlin Wang', 'Jingwen Zhang', 'Dewu Zheng', 'Mingxi Ye', 'Jiachi Chen']\", 'published': '2023-11-17 07:55:16+00:00', 'primary_category': 'cs.SE', 'categories': \"['cs.SE']\", 'pdf_url': 'http://arxiv.org/pdf/2311.10372v2'}),\n",
       "  Document(id=fe876693ff0c3df82eff969f81e6a696b8ad094071b82f8b52ab610d09b4b3fb, content: 'A graph is a fundamental data model to represent various entities and their\n",
       "  complex relationships in...', meta: {'title': 'A Survey of Large Language Models on Generative Graph Analytics: Query, Learning, and Applications', 'authors': \"['Wenbo Shang', 'Xin Huang']\", 'published': '2024-04-23 07:39:24+00:00', 'primary_category': 'cs.CL', 'categories': \"['cs.CL', 'cs.AI', 'cs.DB']\", 'pdf_url': 'http://arxiv.org/pdf/2404.14809v1'}),\n",
       "  Document(id=b7d8b363d9bf896cfea0fc5f2c5cfdfd2de98885e4e1ab32c3b00fb22b7d4cd5, content: 'This work summarizes two ways to accomplish Time-Series (TS) tasks in today's\n",
       "  Large Language Model (...', meta: {'title': \"TEST: Text Prototype Aligned Embedding to Activate LLM's Ability for Time Series\", 'authors': \"['Chenxi Sun', 'Hongyan Li', 'Yaliang Li', 'Shenda Hong']\", 'published': '2023-08-16 09:16:02+00:00', 'primary_category': 'cs.CL', 'categories': \"['cs.CL', 'cs.AI']\", 'pdf_url': 'http://arxiv.org/pdf/2308.08241v2'}),\n",
       "  Document(id=960a46561cd457b1e49b3cd1cdbf3b4e2f9e15b3661486072c0ac29fd82d088d, content: 'Large language models (LLMs) can label data faster and cheaper than humans\n",
       "  for various NLP tasks. De...', meta: {'title': 'MEGAnno+: A Human-LLM Collaborative Annotation System', 'authors': \"['Hannah Kim', 'Kushan Mitra', 'Rafael Li Chen', 'Sajjadur Rahman', 'Dan Zhang']\", 'published': '2024-02-28 04:58:07+00:00', 'primary_category': 'cs.CL', 'categories': \"['cs.CL', 'cs.HC']\", 'pdf_url': 'http://arxiv.org/pdf/2402.18050v1'}),\n",
       "  Document(id=f76cb8ce196482573dfc57775f5f40e825b1323d73aed6dbc2cb8d61f156222a, content: 'Large Language Model (LLM) assistants, such as ChatGPT, have emerged as\n",
       "  potential alternatives to se...', meta: {'title': 'Why and When LLM-Based Assistants Can Go Wrong: Investigating the Effectiveness of Prompt-Based Interactions for Software Help-Seeking', 'authors': \"['Anjali Khurana', 'Hari Subramonyam', 'Parmit K Chilana']\", 'published': '2024-02-12 19:49:58+00:00', 'primary_category': 'cs.HC', 'categories': \"['cs.HC', 'cs.AI', 'cs.LG']\", 'pdf_url': 'http://arxiv.org/pdf/2402.08030v1'}),\n",
       "  Document(id=227f6b76c8f6926250f28a0aa0bc2156820f9501f8f74aaae18f50b1e488a815, content: 'Since late 2022, Large Language Models (LLMs) have become very prominent with\n",
       "  LLMs like ChatGPT and ...', meta: {'title': 'On the Origin of LLMs: An Evolutionary Tree and Graph for 15,821 Large Language Models', 'authors': \"['Sarah Gao', 'Andrew Kean Gao']\", 'published': '2023-07-19 07:17:43+00:00', 'primary_category': 'cs.DL', 'categories': \"['cs.DL', 'cs.CL', 'I.2.1; H.5.0']\", 'pdf_url': 'http://arxiv.org/pdf/2307.09793v1'}),\n",
       "  Document(id=9e46297678c651b637a26473d6353c2c59aa1398ae9cae18d9edb5797d8b592d, content: 'Misinformation such as fake news and rumors is a serious threat on\n",
       "  information ecosystems and public...', meta: {'title': 'Combating Misinformation in the Age of LLMs: Opportunities and Challenges', 'authors': \"['Canyu Chen', 'Kai Shu']\", 'published': '2023-11-09 00:05:27+00:00', 'primary_category': 'cs.CY', 'categories': \"['cs.CY']\", 'pdf_url': 'http://arxiv.org/pdf/2311.05656v1'}),\n",
       "  Document(id=82fc0bb8cbd540a00e201f6b7df70b0d1624ee2d788cdbbf2ba77a06ab3f4252, content: 'Recent advancements in multimodal large language models (MLLMs) have achieved\n",
       "  significant multimodal...', meta: {'title': 'Towards Vision Enhancing LLMs: Empowering Multimodal Knowledge Storage and Sharing in LLMs', 'authors': \"['Yunxin Li', 'Baotian Hu', 'Wei Wang', 'Xiaochun Cao', 'Min Zhang']\", 'published': '2023-11-27 12:29:20+00:00', 'primary_category': 'cs.CL', 'categories': \"['cs.CL', 'cs.AI', 'cs.CV']\", 'pdf_url': 'http://arxiv.org/pdf/2311.15759v1'})]}"
      ]
     },
     "execution_count": 12,
     "metadata": {},
     "output_type": "execute_result"
    }
   ],
   "source": [
    "pandas_converter.run(dataframe=output_dataframe[\"dataframe\"])"
   ]
  },
  {
   "cell_type": "markdown",
   "metadata": {},
   "source": [
    "If we want to use the dataframe index as unique identifier for documents, we can set the `use_index_as_id` parameter."
   ]
  },
  {
   "cell_type": "code",
   "execution_count": 13,
   "metadata": {},
   "outputs": [
    {
     "data": {
      "text/plain": [
       "{'documents': [Document(id=0, content: 'Large Language Models (LLMs) have become widely adopted recently. Research\n",
       "  explores their use both a...', meta: {'title': 'Large Language Models as Software Components: A Taxonomy for LLM-Integrated Applications', 'authors': \"['Irene Weber']\", 'published': '2024-06-13 21:32:56+00:00', 'primary_category': 'cs.SE', 'categories': \"['cs.SE', 'cs.CL', 'cs.LG', 'A.1; I.2.7; D.2.11']\", 'pdf_url': 'http://arxiv.org/pdf/2406.10300v1'}),\n",
       "  Document(id=1, content: 'The rise of large language models (LLMs) has enabled LLM-based applications\n",
       "  (a.k.a. AI agents or co-...', meta: {'title': 'Parrot: Efficient Serving of LLM-based Applications with Semantic Variable', 'authors': \"['Chaofan Lin', 'Zhenhua Han', 'Chengruidong Zhang', 'Yuqing Yang', 'Fan Yang', 'Chen Chen', 'Lili Qiu']\", 'published': '2024-05-30 09:46:36+00:00', 'primary_category': 'cs.LG', 'categories': \"['cs.LG', 'cs.AI']\", 'pdf_url': 'http://arxiv.org/pdf/2405.19888v1'}),\n",
       "  Document(id=2, content: 'General large language models (LLMs), represented by ChatGPT, have\n",
       "  demonstrated significant potentia...', meta: {'title': 'A Survey of Large Language Models for Code: Evolution, Benchmarking, and Future Trends', 'authors': \"['Zibin Zheng', 'Kaiwen Ning', 'Yanlin Wang', 'Jingwen Zhang', 'Dewu Zheng', 'Mingxi Ye', 'Jiachi Chen']\", 'published': '2023-11-17 07:55:16+00:00', 'primary_category': 'cs.SE', 'categories': \"['cs.SE']\", 'pdf_url': 'http://arxiv.org/pdf/2311.10372v2'}),\n",
       "  Document(id=3, content: 'A graph is a fundamental data model to represent various entities and their\n",
       "  complex relationships in...', meta: {'title': 'A Survey of Large Language Models on Generative Graph Analytics: Query, Learning, and Applications', 'authors': \"['Wenbo Shang', 'Xin Huang']\", 'published': '2024-04-23 07:39:24+00:00', 'primary_category': 'cs.CL', 'categories': \"['cs.CL', 'cs.AI', 'cs.DB']\", 'pdf_url': 'http://arxiv.org/pdf/2404.14809v1'}),\n",
       "  Document(id=4, content: 'This work summarizes two ways to accomplish Time-Series (TS) tasks in today's\n",
       "  Large Language Model (...', meta: {'title': \"TEST: Text Prototype Aligned Embedding to Activate LLM's Ability for Time Series\", 'authors': \"['Chenxi Sun', 'Hongyan Li', 'Yaliang Li', 'Shenda Hong']\", 'published': '2023-08-16 09:16:02+00:00', 'primary_category': 'cs.CL', 'categories': \"['cs.CL', 'cs.AI']\", 'pdf_url': 'http://arxiv.org/pdf/2308.08241v2'}),\n",
       "  Document(id=5, content: 'Large language models (LLMs) can label data faster and cheaper than humans\n",
       "  for various NLP tasks. De...', meta: {'title': 'MEGAnno+: A Human-LLM Collaborative Annotation System', 'authors': \"['Hannah Kim', 'Kushan Mitra', 'Rafael Li Chen', 'Sajjadur Rahman', 'Dan Zhang']\", 'published': '2024-02-28 04:58:07+00:00', 'primary_category': 'cs.CL', 'categories': \"['cs.CL', 'cs.HC']\", 'pdf_url': 'http://arxiv.org/pdf/2402.18050v1'}),\n",
       "  Document(id=6, content: 'Large Language Model (LLM) assistants, such as ChatGPT, have emerged as\n",
       "  potential alternatives to se...', meta: {'title': 'Why and When LLM-Based Assistants Can Go Wrong: Investigating the Effectiveness of Prompt-Based Interactions for Software Help-Seeking', 'authors': \"['Anjali Khurana', 'Hari Subramonyam', 'Parmit K Chilana']\", 'published': '2024-02-12 19:49:58+00:00', 'primary_category': 'cs.HC', 'categories': \"['cs.HC', 'cs.AI', 'cs.LG']\", 'pdf_url': 'http://arxiv.org/pdf/2402.08030v1'}),\n",
       "  Document(id=7, content: 'Since late 2022, Large Language Models (LLMs) have become very prominent with\n",
       "  LLMs like ChatGPT and ...', meta: {'title': 'On the Origin of LLMs: An Evolutionary Tree and Graph for 15,821 Large Language Models', 'authors': \"['Sarah Gao', 'Andrew Kean Gao']\", 'published': '2023-07-19 07:17:43+00:00', 'primary_category': 'cs.DL', 'categories': \"['cs.DL', 'cs.CL', 'I.2.1; H.5.0']\", 'pdf_url': 'http://arxiv.org/pdf/2307.09793v1'}),\n",
       "  Document(id=8, content: 'Misinformation such as fake news and rumors is a serious threat on\n",
       "  information ecosystems and public...', meta: {'title': 'Combating Misinformation in the Age of LLMs: Opportunities and Challenges', 'authors': \"['Canyu Chen', 'Kai Shu']\", 'published': '2023-11-09 00:05:27+00:00', 'primary_category': 'cs.CY', 'categories': \"['cs.CY']\", 'pdf_url': 'http://arxiv.org/pdf/2311.05656v1'}),\n",
       "  Document(id=9, content: 'Recent advancements in multimodal large language models (MLLMs) have achieved\n",
       "  significant multimodal...', meta: {'title': 'Towards Vision Enhancing LLMs: Empowering Multimodal Knowledge Storage and Sharing in LLMs', 'authors': \"['Yunxin Li', 'Baotian Hu', 'Wei Wang', 'Xiaochun Cao', 'Min Zhang']\", 'published': '2023-11-27 12:29:20+00:00', 'primary_category': 'cs.CL', 'categories': \"['cs.CL', 'cs.AI', 'cs.CV']\", 'pdf_url': 'http://arxiv.org/pdf/2311.15759v1'})]}"
      ]
     },
     "execution_count": 13,
     "metadata": {},
     "output_type": "execute_result"
    }
   ],
   "source": [
    "pandas_converter = PandasDataFrameConverter(\n",
    "    content_column=\"summary\",\n",
    "    meta_columns=[\"title\", \"authors\", \"published\", \"primary_category\", \"categories\", \"pdf_url\"],\n",
    "    use_index_as_id=True,\n",
    ")\n",
    "pandas_converter.run(dataframe=output_dataframe[\"dataframe\"])"
   ]
  },
  {
   "cell_type": "markdown",
   "metadata": {},
   "source": [
    "### Using the components in a pipeline"
   ]
  },
  {
   "cell_type": "code",
   "execution_count": 14,
   "metadata": {},
   "outputs": [],
   "source": [
    "from haystack import Pipeline\n",
    "from haystack.components.writers import DocumentWriter\n",
    "from haystack.document_stores.in_memory import InMemoryDocumentStore"
   ]
  },
  {
   "cell_type": "code",
   "execution_count": 15,
   "metadata": {},
   "outputs": [
    {
     "data": {
      "image/png": "[encoded data removed]",
      "text/plain": [
       "<IPython.core.display.Image object>"
      ]
     },
     "metadata": {},
     "output_type": "display_data"
    }
   ],
   "source": [
    "document_store = InMemoryDocumentStore()\n",
    "\n",
    "indexing = Pipeline()\n",
    "indexing.add_component(\"file_to_pandas\", FileToPandasDataFrame(file_format=\"csv\"))\n",
    "indexing.add_component(\n",
    "    \"dataframe_converter\",\n",
    "    PandasDataFrameConverter(\n",
    "        content_column=\"summary\",\n",
    "        meta_columns=[\"title\", \"authors\", \"published\", \"primary_category\", \"categories\", \"pdf_url\"],\n",
    "    ),\n",
    ")\n",
    "indexing.add_component(\"writer\", DocumentWriter(document_store))\n",
    "indexing.connect(\"file_to_pandas\", \"dataframe_converter\")\n",
    "indexing.connect(\"dataframe_converter\", \"writer\")\n",
    "indexing.show()"
   ]
  },
  {
   "cell_type": "code",
   "execution_count": 16,
   "metadata": {},
   "outputs": [
    {
     "data": {
      "text/plain": [
       "{'writer': {'documents_written': 10}}"
      ]
     },
     "execution_count": 16,
     "metadata": {},
     "output_type": "execute_result"
    }
   ],
   "source": [
    "indexing.run({\"file_to_pandas\": {\"file_paths\": [temp_file.name]}})"
   ]
  },
  {
   "cell_type": "code",
   "execution_count": 17,
   "metadata": {},
   "outputs": [],
   "source": [
    "# Cleanup\n",
    "# delete the temporary file\n",
    "from pathlib import Path\n",
    "\n",
    "Path(temp_file.name).unlink()"
   ]
  },
  {
   "cell_type": "code",
   "execution_count": null,
   "metadata": {},
   "outputs": [],
   "source": []
  }
 ],
 "metadata": {
  "kernelspec": {
   "display_name": "dataframes-haystack",
   "language": "python",
   "name": "python3"
  },
  "language_info": {
   "codemirror_mode": {
    "name": "ipython",
    "version": 3
   },
   "file_extension": ".py",
   "mimetype": "text/x-python",
   "name": "python",
   "nbconvert_exporter": "python",
   "pygments_lexer": "ipython3",
   "version": "3.8.19"
  }
 },
 "nbformat": 4,
 "nbformat_minor": 2
}
