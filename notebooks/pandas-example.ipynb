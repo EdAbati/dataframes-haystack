{
 "cells": [
  {
   "cell_type": "markdown",
   "metadata": {},
   "source": [
    "# Using `pandas` with `dataframe-haystack`\n",
    "\n",
    "[![Open In Colab](https://colab.research.google.com/assets/colab-badge.svg)](https://colab.research.google.com/github/EdAbati/dataframes-haystack/blob/main/notebooks/pandas-example.ipynb)\n"
   ]
  },
  {
   "cell_type": "code",
   "execution_count": 1,
   "metadata": {},
   "outputs": [],
   "source": [
    "# when running in Google Colab (or similar), install the following packages\n",
    "# !pip install dataframe-haystack arxiv"
   ]
  },
  {
   "cell_type": "code",
   "execution_count": 2,
   "metadata": {},
   "outputs": [],
   "source": [
    "import pandas as pd"
   ]
  },
  {
   "cell_type": "markdown",
   "metadata": {},
   "source": [
    "## Downloading the dataset\n",
    "\n",
    "We are using a dataset that contains abstracts of papers uploaded on arXiv. We are using the arXiv API to get the data."
   ]
  },
  {
   "cell_type": "code",
   "execution_count": 3,
   "metadata": {},
   "outputs": [],
   "source": [
    "def get_arxiv_data(search_query: str, max_num_rows: int = 10) -> pd.DataFrame:\n",
    "    \"\"\"Get data using the arXiv API.\"\"\"\n",
    "    import arxiv\n",
    "\n",
    "    arxiv_client = arxiv.Client()\n",
    "\n",
    "    search = arxiv.Search(query=search_query, max_results=max_num_rows, sort_by=arxiv.SortCriterion.Relevance)\n",
    "    results_list = [\n",
    "        {\n",
    "            \"title\": result.title,\n",
    "            \"authors\": [author.name for author in result.authors],\n",
    "            \"summary\": result.summary,\n",
    "            \"published\": result.published,\n",
    "            \"primary_category\": result.primary_category,\n",
    "            \"categories\": result.categories,\n",
    "            \"pdf_url\": result.pdf_url,\n",
    "            \"entry_id\": result.entry_id,\n",
    "        }\n",
    "        for result in arxiv_client.results(search)\n",
    "    ]\n",
    "    return pd.DataFrame(results_list)"
   ]
  },
  {
   "cell_type": "markdown",
   "metadata": {},
   "source": [
    "We will have a dataset of 10 rows with papers about LLMs."
   ]
  },
  {
   "cell_type": "code",
   "execution_count": 4,
   "metadata": {},
   "outputs": [
    {
     "data": {
      "text/html": [
       "<div>\n",
       "<style scoped>\n",
       "    .dataframe tbody tr th:only-of-type {\n",
       "        vertical-align: middle;\n",
       "    }\n",
       "\n",
       "    .dataframe tbody tr th {\n",
       "        vertical-align: top;\n",
       "    }\n",
       "\n",
       "    .dataframe thead th {\n",
       "        text-align: right;\n",
       "    }\n",
       "</style>\n",
       "<table border=\"1\" class=\"dataframe\">\n",
       "  <thead>\n",
       "    <tr style=\"text-align: right;\">\n",
       "      <th></th>\n",
       "      <th>title</th>\n",
       "      <th>authors</th>\n",
       "      <th>summary</th>\n",
       "      <th>published</th>\n",
       "      <th>primary_category</th>\n",
       "      <th>categories</th>\n",
       "      <th>pdf_url</th>\n",
       "      <th>entry_id</th>\n",
       "    </tr>\n",
       "  </thead>\n",
       "  <tbody>\n",
       "    <tr>\n",
       "      <th>0</th>\n",
       "      <td>A Survey of Large Language Models for Code: Ev...</td>\n",
       "      <td>[Zibin Zheng, Kaiwen Ning, Yanlin Wang, Jingwe...</td>\n",
       "      <td>General large language models (LLMs), represen...</td>\n",
       "      <td>2023-11-17 07:55:16+00:00</td>\n",
       "      <td>cs.SE</td>\n",
       "      <td>[cs.SE]</td>\n",
       "      <td>http://arxiv.org/pdf/2311.10372v2</td>\n",
       "      <td>http://arxiv.org/abs/2311.10372v2</td>\n",
       "    </tr>\n",
       "    <tr>\n",
       "      <th>1</th>\n",
       "      <td>TEST: Text Prototype Aligned Embedding to Acti...</td>\n",
       "      <td>[Chenxi Sun, Hongyan Li, Yaliang Li, Shenda Hong]</td>\n",
       "      <td>This work summarizes two ways to accomplish Ti...</td>\n",
       "      <td>2023-08-16 09:16:02+00:00</td>\n",
       "      <td>cs.CL</td>\n",
       "      <td>[cs.CL, cs.AI]</td>\n",
       "      <td>http://arxiv.org/pdf/2308.08241v2</td>\n",
       "      <td>http://arxiv.org/abs/2308.08241v2</td>\n",
       "    </tr>\n",
       "    <tr>\n",
       "      <th>2</th>\n",
       "      <td>Benchmarking LLMs via Uncertainty Quantification</td>\n",
       "      <td>[Fanghua Ye, Mingming Yang, Jianhui Pang, Long...</td>\n",
       "      <td>The proliferation of open-source Large Languag...</td>\n",
       "      <td>2024-01-23 14:29:17+00:00</td>\n",
       "      <td>cs.CL</td>\n",
       "      <td>[cs.CL]</td>\n",
       "      <td>http://arxiv.org/pdf/2401.12794v1</td>\n",
       "      <td>http://arxiv.org/abs/2401.12794v1</td>\n",
       "    </tr>\n",
       "    <tr>\n",
       "      <th>3</th>\n",
       "      <td>Is LLM-as-a-Judge Robust? Investigating Univer...</td>\n",
       "      <td>[Vyas Raina, Adian Liusie, Mark Gales]</td>\n",
       "      <td>Large Language Models (LLMs) are powerful zero...</td>\n",
       "      <td>2024-02-21 18:55:20+00:00</td>\n",
       "      <td>cs.CL</td>\n",
       "      <td>[cs.CL]</td>\n",
       "      <td>http://arxiv.org/pdf/2402.14016v1</td>\n",
       "      <td>http://arxiv.org/abs/2402.14016v1</td>\n",
       "    </tr>\n",
       "    <tr>\n",
       "      <th>4</th>\n",
       "      <td>MEGAnno+: A Human-LLM Collaborative Annotation...</td>\n",
       "      <td>[Hannah Kim, Kushan Mitra, Rafael Li Chen, Saj...</td>\n",
       "      <td>Large language models (LLMs) can label data fa...</td>\n",
       "      <td>2024-02-28 04:58:07+00:00</td>\n",
       "      <td>cs.CL</td>\n",
       "      <td>[cs.CL, cs.HC]</td>\n",
       "      <td>http://arxiv.org/pdf/2402.18050v1</td>\n",
       "      <td>http://arxiv.org/abs/2402.18050v1</td>\n",
       "    </tr>\n",
       "  </tbody>\n",
       "</table>\n",
       "</div>"
      ],
      "text/plain": [
       "                                               title  \\\n",
       "0  A Survey of Large Language Models for Code: Ev...   \n",
       "1  TEST: Text Prototype Aligned Embedding to Acti...   \n",
       "2   Benchmarking LLMs via Uncertainty Quantification   \n",
       "3  Is LLM-as-a-Judge Robust? Investigating Univer...   \n",
       "4  MEGAnno+: A Human-LLM Collaborative Annotation...   \n",
       "\n",
       "                                             authors  \\\n",
       "0  [Zibin Zheng, Kaiwen Ning, Yanlin Wang, Jingwe...   \n",
       "1  [Chenxi Sun, Hongyan Li, Yaliang Li, Shenda Hong]   \n",
       "2  [Fanghua Ye, Mingming Yang, Jianhui Pang, Long...   \n",
       "3             [Vyas Raina, Adian Liusie, Mark Gales]   \n",
       "4  [Hannah Kim, Kushan Mitra, Rafael Li Chen, Saj...   \n",
       "\n",
       "                                             summary  \\\n",
       "0  General large language models (LLMs), represen...   \n",
       "1  This work summarizes two ways to accomplish Ti...   \n",
       "2  The proliferation of open-source Large Languag...   \n",
       "3  Large Language Models (LLMs) are powerful zero...   \n",
       "4  Large language models (LLMs) can label data fa...   \n",
       "\n",
       "                  published primary_category      categories  \\\n",
       "0 2023-11-17 07:55:16+00:00            cs.SE         [cs.SE]   \n",
       "1 2023-08-16 09:16:02+00:00            cs.CL  [cs.CL, cs.AI]   \n",
       "2 2024-01-23 14:29:17+00:00            cs.CL         [cs.CL]   \n",
       "3 2024-02-21 18:55:20+00:00            cs.CL         [cs.CL]   \n",
       "4 2024-02-28 04:58:07+00:00            cs.CL  [cs.CL, cs.HC]   \n",
       "\n",
       "                             pdf_url                           entry_id  \n",
       "0  http://arxiv.org/pdf/2311.10372v2  http://arxiv.org/abs/2311.10372v2  \n",
       "1  http://arxiv.org/pdf/2308.08241v2  http://arxiv.org/abs/2308.08241v2  \n",
       "2  http://arxiv.org/pdf/2401.12794v1  http://arxiv.org/abs/2401.12794v1  \n",
       "3  http://arxiv.org/pdf/2402.14016v1  http://arxiv.org/abs/2402.14016v1  \n",
       "4  http://arxiv.org/pdf/2402.18050v1  http://arxiv.org/abs/2402.18050v1  "
      ]
     },
     "execution_count": 4,
     "metadata": {},
     "output_type": "execute_result"
    }
   ],
   "source": [
    "df = get_arxiv_data(\"llm\", max_num_rows=10)\n",
    "df.head()"
   ]
  },
  {
   "cell_type": "markdown",
   "metadata": {},
   "source": [
    "## Loading the data in `haystack`"
   ]
  },
  {
   "cell_type": "code",
   "execution_count": 5,
   "metadata": {},
   "outputs": [],
   "source": [
    "from dataframes_haystack.components.converters.pandas import PandasDataFrameConverter"
   ]
  },
  {
   "cell_type": "code",
   "execution_count": 6,
   "metadata": {},
   "outputs": [],
   "source": [
    "pandas_converter = PandasDataFrameConverter(\n",
    "    content_column=\"summary\",\n",
    "    meta_columns=[\"title\", \"authors\", \"published\", \"primary_category\", \"categories\", \"pdf_url\"],\n",
    ")"
   ]
  },
  {
   "cell_type": "code",
   "execution_count": 7,
   "metadata": {},
   "outputs": [
    {
     "data": {
      "text/plain": [
       "{'documents': [Document(id=e5345d1a494ff02e70e539ea512e5051fdb9444b74fb4a341bcc5536ea1bbedd, content: 'General large language models (LLMs), represented by ChatGPT, have\n",
       "  demonstrated significant potentia...', meta: {'title': 'A Survey of Large Language Models for Code: Evolution, Benchmarking, and Future Trends', 'authors': ['Zibin Zheng', 'Kaiwen Ning', 'Yanlin Wang', 'Jingwen Zhang', 'Dewu Zheng', 'Mingxi Ye', 'Jiachi Chen'], 'published': Timestamp('2023-11-17 07:55:16+0000', tz='UTC'), 'primary_category': 'cs.SE', 'categories': ['cs.SE'], 'pdf_url': 'http://arxiv.org/pdf/2311.10372v2'}),\n",
       "  Document(id=eb043b305efedf30bfb8a566ad615deb77408e8b13edd315a27e6680f1c060b7, content: 'This work summarizes two ways to accomplish Time-Series (TS) tasks in today's\n",
       "  Large Language Model (...', meta: {'title': \"TEST: Text Prototype Aligned Embedding to Activate LLM's Ability for Time Series\", 'authors': ['Chenxi Sun', 'Hongyan Li', 'Yaliang Li', 'Shenda Hong'], 'published': Timestamp('2023-08-16 09:16:02+0000', tz='UTC'), 'primary_category': 'cs.CL', 'categories': ['cs.CL', 'cs.AI'], 'pdf_url': 'http://arxiv.org/pdf/2308.08241v2'}),\n",
       "  Document(id=7787bced397e1b475ab8998eba3b3758ce8a090c54808ef3f52269cf6e23df13, content: 'The proliferation of open-source Large Language Models (LLMs) from various\n",
       "  institutions has highligh...', meta: {'title': 'Benchmarking LLMs via Uncertainty Quantification', 'authors': ['Fanghua Ye', 'Mingming Yang', 'Jianhui Pang', 'Longyue Wang', 'Derek F. Wong', 'Emine Yilmaz', 'Shuming Shi', 'Zhaopeng Tu'], 'published': Timestamp('2024-01-23 14:29:17+0000', tz='UTC'), 'primary_category': 'cs.CL', 'categories': ['cs.CL'], 'pdf_url': 'http://arxiv.org/pdf/2401.12794v1'}),\n",
       "  Document(id=8165713c8b277cf96ebb09a4323df065b259bdfb5d05b939470502ea6efa05e0, content: 'Large Language Models (LLMs) are powerful zero-shot assessors and are\n",
       "  increasingly used in real-worl...', meta: {'title': 'Is LLM-as-a-Judge Robust? Investigating Universal Adversarial Attacks on Zero-shot LLM Assessment', 'authors': ['Vyas Raina', 'Adian Liusie', 'Mark Gales'], 'published': Timestamp('2024-02-21 18:55:20+0000', tz='UTC'), 'primary_category': 'cs.CL', 'categories': ['cs.CL'], 'pdf_url': 'http://arxiv.org/pdf/2402.14016v1'}),\n",
       "  Document(id=236f41028f068c0009b1b9c57b932661096232b60b2fe153bed09d96373e534f, content: 'Large language models (LLMs) can label data faster and cheaper than humans\n",
       "  for various NLP tasks. De...', meta: {'title': 'MEGAnno+: A Human-LLM Collaborative Annotation System', 'authors': ['Hannah Kim', 'Kushan Mitra', 'Rafael Li Chen', 'Sajjadur Rahman', 'Dan Zhang'], 'published': Timestamp('2024-02-28 04:58:07+0000', tz='UTC'), 'primary_category': 'cs.CL', 'categories': ['cs.CL', 'cs.HC'], 'pdf_url': 'http://arxiv.org/pdf/2402.18050v1'}),\n",
       "  Document(id=f4fe18db15c552aa0c3c006b68b4e13d4b7673655583230cd426815034edfd97, content: 'Large Language Model (LLM) assistants, such as ChatGPT, have emerged as\n",
       "  potential alternatives to se...', meta: {'title': 'Why and When LLM-Based Assistants Can Go Wrong: Investigating the Effectiveness of Prompt-Based Interactions for Software Help-Seeking', 'authors': ['Anjali Khurana', 'Hari Subramonyam', 'Parmit K Chilana'], 'published': Timestamp('2024-02-12 19:49:58+0000', tz='UTC'), 'primary_category': 'cs.HC', 'categories': ['cs.HC', 'cs.AI', 'cs.LG'], 'pdf_url': 'http://arxiv.org/pdf/2402.08030v1'}),\n",
       "  Document(id=af72006bf55a56642dfee961f57936b385de0e9499f66ab4f40bcb48fb23ceb6, content: 'Since late 2022, Large Language Models (LLMs) have become very prominent with\n",
       "  LLMs like ChatGPT and ...', meta: {'title': 'On the Origin of LLMs: An Evolutionary Tree and Graph for 15,821 Large Language Models', 'authors': ['Sarah Gao', 'Andrew Kean Gao'], 'published': Timestamp('2023-07-19 07:17:43+0000', tz='UTC'), 'primary_category': 'cs.DL', 'categories': ['cs.DL', 'cs.CL', 'I.2.1; H.5.0'], 'pdf_url': 'http://arxiv.org/pdf/2307.09793v1'}),\n",
       "  Document(id=9662dda2011ab2f3437a365f79e5c26e72983bfd0ee15b626c0cd83bb9794de6, content: 'Misinformation such as fake news and rumors is a serious threat on\n",
       "  information ecosystems and public...', meta: {'title': 'Combating Misinformation in the Age of LLMs: Opportunities and Challenges', 'authors': ['Canyu Chen', 'Kai Shu'], 'published': Timestamp('2023-11-09 00:05:27+0000', tz='UTC'), 'primary_category': 'cs.CY', 'categories': ['cs.CY'], 'pdf_url': 'http://arxiv.org/pdf/2311.05656v1'}),\n",
       "  Document(id=ea33c8f65ae51f76b7c754bcbdaaaada73406b960092450cef4a61fe351a4745, content: 'Recent advancements in multimodal large language models (MLLMs) have achieved\n",
       "  significant multimodal...', meta: {'title': 'Towards Vision Enhancing LLMs: Empowering Multimodal Knowledge Storage and Sharing in LLMs', 'authors': ['Yunxin Li', 'Baotian Hu', 'Wei Wang', 'Xiaochun Cao', 'Min Zhang'], 'published': Timestamp('2023-11-27 12:29:20+0000', tz='UTC'), 'primary_category': 'cs.CL', 'categories': ['cs.CL', 'cs.AI', 'cs.CV'], 'pdf_url': 'http://arxiv.org/pdf/2311.15759v1'}),\n",
       "  Document(id=30ad1bdfb1636680b77dc65da3e37f621da71afc7efb8d31fcaf2fa8d88575a4, content: 'Recently, considerable efforts have been directed towards compressing Large\n",
       "  Language Models (LLMs), ...', meta: {'title': 'Any-Precision LLM: Low-Cost Deployment of Multiple, Different-Sized LLMs', 'authors': ['Yeonhong Park', 'Jake Hyun', 'SangLyul Cho', 'Bonggeun Sim', 'Jae W. Lee'], 'published': Timestamp('2024-02-16 09:06:06+0000', tz='UTC'), 'primary_category': 'cs.LG', 'categories': ['cs.LG'], 'pdf_url': 'http://arxiv.org/pdf/2402.10517v1'})]}"
      ]
     },
     "execution_count": 7,
     "metadata": {},
     "output_type": "execute_result"
    }
   ],
   "source": [
    "pandas_converter.run(dataframe=df)"
   ]
  },
  {
   "cell_type": "markdown",
   "metadata": {},
   "source": [
    "If we want to use the dataframe index as unique identifier for documents, we can set the `use_index_as_id` parameter."
   ]
  },
  {
   "cell_type": "code",
   "execution_count": 8,
   "metadata": {},
   "outputs": [
    {
     "data": {
      "text/plain": [
       "{'documents': [Document(id=0, content: 'General large language models (LLMs), represented by ChatGPT, have\n",
       "  demonstrated significant potentia...', meta: {'title': 'A Survey of Large Language Models for Code: Evolution, Benchmarking, and Future Trends', 'authors': ['Zibin Zheng', 'Kaiwen Ning', 'Yanlin Wang', 'Jingwen Zhang', 'Dewu Zheng', 'Mingxi Ye', 'Jiachi Chen'], 'published': Timestamp('2023-11-17 07:55:16+0000', tz='UTC'), 'primary_category': 'cs.SE', 'categories': ['cs.SE'], 'pdf_url': 'http://arxiv.org/pdf/2311.10372v2'}),\n",
       "  Document(id=1, content: 'This work summarizes two ways to accomplish Time-Series (TS) tasks in today's\n",
       "  Large Language Model (...', meta: {'title': \"TEST: Text Prototype Aligned Embedding to Activate LLM's Ability for Time Series\", 'authors': ['Chenxi Sun', 'Hongyan Li', 'Yaliang Li', 'Shenda Hong'], 'published': Timestamp('2023-08-16 09:16:02+0000', tz='UTC'), 'primary_category': 'cs.CL', 'categories': ['cs.CL', 'cs.AI'], 'pdf_url': 'http://arxiv.org/pdf/2308.08241v2'}),\n",
       "  Document(id=2, content: 'The proliferation of open-source Large Language Models (LLMs) from various\n",
       "  institutions has highligh...', meta: {'title': 'Benchmarking LLMs via Uncertainty Quantification', 'authors': ['Fanghua Ye', 'Mingming Yang', 'Jianhui Pang', 'Longyue Wang', 'Derek F. Wong', 'Emine Yilmaz', 'Shuming Shi', 'Zhaopeng Tu'], 'published': Timestamp('2024-01-23 14:29:17+0000', tz='UTC'), 'primary_category': 'cs.CL', 'categories': ['cs.CL'], 'pdf_url': 'http://arxiv.org/pdf/2401.12794v1'}),\n",
       "  Document(id=3, content: 'Large Language Models (LLMs) are powerful zero-shot assessors and are\n",
       "  increasingly used in real-worl...', meta: {'title': 'Is LLM-as-a-Judge Robust? Investigating Universal Adversarial Attacks on Zero-shot LLM Assessment', 'authors': ['Vyas Raina', 'Adian Liusie', 'Mark Gales'], 'published': Timestamp('2024-02-21 18:55:20+0000', tz='UTC'), 'primary_category': 'cs.CL', 'categories': ['cs.CL'], 'pdf_url': 'http://arxiv.org/pdf/2402.14016v1'}),\n",
       "  Document(id=4, content: 'Large language models (LLMs) can label data faster and cheaper than humans\n",
       "  for various NLP tasks. De...', meta: {'title': 'MEGAnno+: A Human-LLM Collaborative Annotation System', 'authors': ['Hannah Kim', 'Kushan Mitra', 'Rafael Li Chen', 'Sajjadur Rahman', 'Dan Zhang'], 'published': Timestamp('2024-02-28 04:58:07+0000', tz='UTC'), 'primary_category': 'cs.CL', 'categories': ['cs.CL', 'cs.HC'], 'pdf_url': 'http://arxiv.org/pdf/2402.18050v1'}),\n",
       "  Document(id=5, content: 'Large Language Model (LLM) assistants, such as ChatGPT, have emerged as\n",
       "  potential alternatives to se...', meta: {'title': 'Why and When LLM-Based Assistants Can Go Wrong: Investigating the Effectiveness of Prompt-Based Interactions for Software Help-Seeking', 'authors': ['Anjali Khurana', 'Hari Subramonyam', 'Parmit K Chilana'], 'published': Timestamp('2024-02-12 19:49:58+0000', tz='UTC'), 'primary_category': 'cs.HC', 'categories': ['cs.HC', 'cs.AI', 'cs.LG'], 'pdf_url': 'http://arxiv.org/pdf/2402.08030v1'}),\n",
       "  Document(id=6, content: 'Since late 2022, Large Language Models (LLMs) have become very prominent with\n",
       "  LLMs like ChatGPT and ...', meta: {'title': 'On the Origin of LLMs: An Evolutionary Tree and Graph for 15,821 Large Language Models', 'authors': ['Sarah Gao', 'Andrew Kean Gao'], 'published': Timestamp('2023-07-19 07:17:43+0000', tz='UTC'), 'primary_category': 'cs.DL', 'categories': ['cs.DL', 'cs.CL', 'I.2.1; H.5.0'], 'pdf_url': 'http://arxiv.org/pdf/2307.09793v1'}),\n",
       "  Document(id=7, content: 'Misinformation such as fake news and rumors is a serious threat on\n",
       "  information ecosystems and public...', meta: {'title': 'Combating Misinformation in the Age of LLMs: Opportunities and Challenges', 'authors': ['Canyu Chen', 'Kai Shu'], 'published': Timestamp('2023-11-09 00:05:27+0000', tz='UTC'), 'primary_category': 'cs.CY', 'categories': ['cs.CY'], 'pdf_url': 'http://arxiv.org/pdf/2311.05656v1'}),\n",
       "  Document(id=8, content: 'Recent advancements in multimodal large language models (MLLMs) have achieved\n",
       "  significant multimodal...', meta: {'title': 'Towards Vision Enhancing LLMs: Empowering Multimodal Knowledge Storage and Sharing in LLMs', 'authors': ['Yunxin Li', 'Baotian Hu', 'Wei Wang', 'Xiaochun Cao', 'Min Zhang'], 'published': Timestamp('2023-11-27 12:29:20+0000', tz='UTC'), 'primary_category': 'cs.CL', 'categories': ['cs.CL', 'cs.AI', 'cs.CV'], 'pdf_url': 'http://arxiv.org/pdf/2311.15759v1'}),\n",
       "  Document(id=9, content: 'Recently, considerable efforts have been directed towards compressing Large\n",
       "  Language Models (LLMs), ...', meta: {'title': 'Any-Precision LLM: Low-Cost Deployment of Multiple, Different-Sized LLMs', 'authors': ['Yeonhong Park', 'Jake Hyun', 'SangLyul Cho', 'Bonggeun Sim', 'Jae W. Lee'], 'published': Timestamp('2024-02-16 09:06:06+0000', tz='UTC'), 'primary_category': 'cs.LG', 'categories': ['cs.LG'], 'pdf_url': 'http://arxiv.org/pdf/2402.10517v1'})]}"
      ]
     },
     "execution_count": 8,
     "metadata": {},
     "output_type": "execute_result"
    }
   ],
   "source": [
    "pandas_converter = PandasDataFrameConverter(\n",
    "    content_column=\"summary\",\n",
    "    meta_columns=[\"title\", \"authors\", \"published\", \"primary_category\", \"categories\", \"pdf_url\"],\n",
    "    use_index_as_id=True,\n",
    ")\n",
    "pandas_converter.run(dataframe=df)"
   ]
  },
  {
   "cell_type": "markdown",
   "metadata": {},
   "source": [
    "### Using the `PandasDataFrameConverter` in a pipeline"
   ]
  },
  {
   "cell_type": "code",
   "execution_count": 9,
   "metadata": {},
   "outputs": [],
   "source": [
    "from haystack import Pipeline\n",
    "from haystack.components.writers import DocumentWriter\n",
    "from haystack.document_stores.in_memory import InMemoryDocumentStore"
   ]
  },
  {
   "cell_type": "code",
   "execution_count": 10,
   "metadata": {},
   "outputs": [
    {
     "data": {
      "image/png": "[encoded data removed]",
      "text/plain": [
       "<IPython.core.display.Image object>"
      ]
     },
     "metadata": {},
     "output_type": "display_data"
    }
   ],
   "source": [
    "document_store = InMemoryDocumentStore()\n",
    "\n",
    "indexing = Pipeline()\n",
    "indexing.add_component(\n",
    "    \"converter\",\n",
    "    PandasDataFrameConverter(\n",
    "        content_column=\"summary\",\n",
    "        meta_columns=[\"title\", \"authors\", \"published\", \"primary_category\", \"categories\", \"pdf_url\"],\n",
    "    ),\n",
    ")\n",
    "indexing.add_component(\"writer\", DocumentWriter(document_store))\n",
    "indexing.connect(\"converter\", \"writer\")\n",
    "indexing.show()"
   ]
  },
  {
   "cell_type": "code",
   "execution_count": 11,
   "metadata": {},
   "outputs": [
    {
     "data": {
      "text/plain": [
       "{'writer': {'documents_written': 10}}"
      ]
     },
     "execution_count": 11,
     "metadata": {},
     "output_type": "execute_result"
    }
   ],
   "source": [
    "indexing.run({\"converter\": {\"dataframe\": df}})"
   ]
  },
  {
   "cell_type": "code",
   "execution_count": null,
   "metadata": {},
   "outputs": [],
   "source": []
  }
 ],
 "metadata": {
  "kernelspec": {
   "display_name": "dataframes-haystack",
   "language": "python",
   "name": "python3"
  },
  "language_info": {
   "codemirror_mode": {
    "name": "ipython",
    "version": 3
   },
   "file_extension": ".py",
   "mimetype": "text/x-python",
   "name": "python",
   "nbconvert_exporter": "python",
   "pygments_lexer": "ipython3",
   "version": "3.8.19"
  }
 },
 "nbformat": 4,
 "nbformat_minor": 2
}
