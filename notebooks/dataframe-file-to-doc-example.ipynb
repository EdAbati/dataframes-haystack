{
 "cells": [
  {
   "cell_type": "markdown",
   "metadata": {},
   "source": [
    "# Using `DataFrameFileToDocument` with `dataframe-haystack`\n",
    "\n",
    "[![Open In Colab](https://colab.research.google.com/assets/colab-badge.svg)](https://colab.research.google.com/github/EdAbati/dataframes-haystack/blob/main/notebooks/dataframe-file-to-doc-example.ipynb)\n"
   ]
  },
  {
   "cell_type": "code",
   "execution_count": 1,
   "metadata": {},
   "outputs": [],
   "source": [
    "# when running in Google Colab (or similar), install the following packages\n",
    "# !pip install dataframe-haystack arxiv 'polars[timezone]' pyarrow"
   ]
  },
  {
   "cell_type": "markdown",
   "metadata": {},
   "source": [
    "## Downloading the dataset\n",
    "\n",
    "We are using a dataset that contains abstracts of papers uploaded on arXiv. We are using the arXiv API to get the data."
   ]
  },
  {
   "cell_type": "code",
   "execution_count": 2,
   "metadata": {},
   "outputs": [],
   "source": [
    "# we import polars just to create and store an example dataframe\n",
    "import polars as pl\n",
    "\n",
    "\n",
    "def get_arxiv_data(search_query: str, max_num_rows: int = 10) -> pl.DataFrame:\n",
    "    \"\"\"Get data using the arXiv API.\"\"\"\n",
    "    import arxiv\n",
    "\n",
    "    arxiv_client = arxiv.Client()\n",
    "\n",
    "    search = arxiv.Search(query=search_query, max_results=max_num_rows, sort_by=arxiv.SortCriterion.Relevance)\n",
    "    results_list = [\n",
    "        {\n",
    "            \"title\": result.title,\n",
    "            \"authors\": [author.name for author in result.authors],\n",
    "            \"summary\": result.summary,\n",
    "            \"published\": result.published,\n",
    "            \"primary_category\": result.primary_category,\n",
    "            \"categories\": result.categories,\n",
    "            \"pdf_url\": result.pdf_url,\n",
    "            \"entry_id\": result.entry_id,\n",
    "        }\n",
    "        for result in arxiv_client.results(search)\n",
    "    ]\n",
    "    return pl.DataFrame(results_list)"
   ]
  },
  {
   "cell_type": "markdown",
   "metadata": {},
   "source": [
    "We will have a dataset of 10 rows with papers about LLMs."
   ]
  },
  {
   "cell_type": "code",
   "execution_count": 3,
   "metadata": {},
   "outputs": [
    {
     "data": {
      "text/html": [
       "<div><style>\n",
       ".dataframe > thead > tr,\n",
       ".dataframe > tbody > tr {\n",
       "  text-align: right;\n",
       "  white-space: pre-wrap;\n",
       "}\n",
       "</style>\n",
       "<small>shape: (5, 8)</small><table border=\"1\" class=\"dataframe\"><thead><tr><th>title</th><th>authors</th><th>summary</th><th>published</th><th>primary_category</th><th>categories</th><th>pdf_url</th><th>entry_id</th></tr><tr><td>str</td><td>list[str]</td><td>str</td><td>datetime[μs, UTC]</td><td>str</td><td>list[str]</td><td>str</td><td>str</td></tr></thead><tbody><tr><td>&quot;Large Language Models as Softw…</td><td>[&quot;Irene Weber&quot;]</td><td>&quot;Large Language Models (LLMs) h…</td><td>2024-06-13 21:32:56 UTC</td><td>&quot;cs.SE&quot;</td><td>[&quot;cs.SE&quot;, &quot;cs.CL&quot;, … &quot;A.1; I.2.7; D.2.11&quot;]</td><td>&quot;http://arxiv.org/pdf/2406.1030…</td><td>&quot;http://arxiv.org/abs/2406.1030…</td></tr><tr><td>&quot;Parrot: Efficient Serving of L…</td><td>[&quot;Chaofan Lin&quot;, &quot;Zhenhua Han&quot;, … &quot;Lili Qiu&quot;]</td><td>&quot;The rise of large language mod…</td><td>2024-05-30 09:46:36 UTC</td><td>&quot;cs.LG&quot;</td><td>[&quot;cs.LG&quot;, &quot;cs.AI&quot;]</td><td>&quot;http://arxiv.org/pdf/2405.1988…</td><td>&quot;http://arxiv.org/abs/2405.1988…</td></tr><tr><td>&quot;A Survey of Large Language Mod…</td><td>[&quot;Zibin Zheng&quot;, &quot;Kaiwen Ning&quot;, … &quot;Jiachi Chen&quot;]</td><td>&quot;General large language models …</td><td>2023-11-17 07:55:16 UTC</td><td>&quot;cs.SE&quot;</td><td>[&quot;cs.SE&quot;]</td><td>&quot;http://arxiv.org/pdf/2311.1037…</td><td>&quot;http://arxiv.org/abs/2311.1037…</td></tr><tr><td>&quot;A Survey of Large Language Mod…</td><td>[&quot;Wenbo Shang&quot;, &quot;Xin Huang&quot;]</td><td>&quot;A graph is a fundamental data …</td><td>2024-04-23 07:39:24 UTC</td><td>&quot;cs.CL&quot;</td><td>[&quot;cs.CL&quot;, &quot;cs.AI&quot;, &quot;cs.DB&quot;]</td><td>&quot;http://arxiv.org/pdf/2404.1480…</td><td>&quot;http://arxiv.org/abs/2404.1480…</td></tr><tr><td>&quot;TEST: Text Prototype Aligned E…</td><td>[&quot;Chenxi Sun&quot;, &quot;Hongyan Li&quot;, … &quot;Shenda Hong&quot;]</td><td>&quot;This work summarizes two ways …</td><td>2023-08-16 09:16:02 UTC</td><td>&quot;cs.CL&quot;</td><td>[&quot;cs.CL&quot;, &quot;cs.AI&quot;]</td><td>&quot;http://arxiv.org/pdf/2308.0824…</td><td>&quot;http://arxiv.org/abs/2308.0824…</td></tr></tbody></table></div>"
      ],
      "text/plain": [
       "shape: (5, 8)\n",
       "┌────────────┬────────────┬────────────┬───────────┬───────────┬───────────┬───────────┬───────────┐\n",
       "│ title      ┆ authors    ┆ summary    ┆ published ┆ primary_c ┆ categorie ┆ pdf_url   ┆ entry_id  │\n",
       "│ ---        ┆ ---        ┆ ---        ┆ ---       ┆ ategory   ┆ s         ┆ ---       ┆ ---       │\n",
       "│ str        ┆ list[str]  ┆ str        ┆ datetime[ ┆ ---       ┆ ---       ┆ str       ┆ str       │\n",
       "│            ┆            ┆            ┆ μs, UTC]  ┆ str       ┆ list[str] ┆           ┆           │\n",
       "╞════════════╪════════════╪════════════╪═══════════╪═══════════╪═══════════╪═══════════╪═══════════╡\n",
       "│ Large      ┆ [\"Irene    ┆ Large      ┆ 2024-06-1 ┆ cs.SE     ┆ [\"cs.SE\", ┆ http://ar ┆ http://ar │\n",
       "│ Language   ┆ Weber\"]    ┆ Language   ┆ 3         ┆           ┆ \"cs.CL\",  ┆ xiv.org/p ┆ xiv.org/a │\n",
       "│ Models as  ┆            ┆ Models     ┆ 21:32:56  ┆           ┆ … \"A.1;   ┆ df/2406.1 ┆ bs/2406.1 │\n",
       "│ Softw…     ┆            ┆ (LLMs) h…  ┆ UTC       ┆           ┆ I.2…      ┆ 030…      ┆ 030…      │\n",
       "│ Parrot:    ┆ [\"Chaofan  ┆ The rise   ┆ 2024-05-3 ┆ cs.LG     ┆ [\"cs.LG\", ┆ http://ar ┆ http://ar │\n",
       "│ Efficient  ┆ Lin\",      ┆ of large   ┆ 0         ┆           ┆ \"cs.AI\"]  ┆ xiv.org/p ┆ xiv.org/a │\n",
       "│ Serving of ┆ \"Zhenhua   ┆ language   ┆ 09:46:36  ┆           ┆           ┆ df/2405.1 ┆ bs/2405.1 │\n",
       "│ L…         ┆ Han\",…     ┆ mod…       ┆ UTC       ┆           ┆           ┆ 988…      ┆ 988…      │\n",
       "│ A Survey   ┆ [\"Zibin    ┆ General    ┆ 2023-11-1 ┆ cs.SE     ┆ [\"cs.SE\"] ┆ http://ar ┆ http://ar │\n",
       "│ of Large   ┆ Zheng\",    ┆ large      ┆ 7         ┆           ┆           ┆ xiv.org/p ┆ xiv.org/a │\n",
       "│ Language   ┆ \"Kaiwen    ┆ language   ┆ 07:55:16  ┆           ┆           ┆ df/2311.1 ┆ bs/2311.1 │\n",
       "│ Mod…       ┆ Ning\",…    ┆ models …   ┆ UTC       ┆           ┆           ┆ 037…      ┆ 037…      │\n",
       "│ A Survey   ┆ [\"Wenbo    ┆ A graph is ┆ 2024-04-2 ┆ cs.CL     ┆ [\"cs.CL\", ┆ http://ar ┆ http://ar │\n",
       "│ of Large   ┆ Shang\",    ┆ a fundamen ┆ 3         ┆           ┆ \"cs.AI\",  ┆ xiv.org/p ┆ xiv.org/a │\n",
       "│ Language   ┆ \"Xin       ┆ tal data … ┆ 07:39:24  ┆           ┆ \"cs.DB\"]  ┆ df/2404.1 ┆ bs/2404.1 │\n",
       "│ Mod…       ┆ Huang\"]    ┆            ┆ UTC       ┆           ┆           ┆ 480…      ┆ 480…      │\n",
       "│ TEST: Text ┆ [\"Chenxi   ┆ This work  ┆ 2023-08-1 ┆ cs.CL     ┆ [\"cs.CL\", ┆ http://ar ┆ http://ar │\n",
       "│ Prototype  ┆ Sun\",      ┆ summarizes ┆ 6         ┆           ┆ \"cs.AI\"]  ┆ xiv.org/p ┆ xiv.org/a │\n",
       "│ Aligned E… ┆ \"Hongyan   ┆ two ways … ┆ 09:16:02  ┆           ┆           ┆ df/2308.0 ┆ bs/2308.0 │\n",
       "│            ┆ Li\", ……    ┆            ┆ UTC       ┆           ┆           ┆ 824…      ┆ 824…      │\n",
       "└────────────┴────────────┴────────────┴───────────┴───────────┴───────────┴───────────┴───────────┘"
      ]
     },
     "execution_count": 3,
     "metadata": {},
     "output_type": "execute_result"
    }
   ],
   "source": [
    "df = get_arxiv_data(\"llm\", max_num_rows=10)\n",
    "df.head()"
   ]
  },
  {
   "cell_type": "markdown",
   "metadata": {},
   "source": [
    "Saving the data in a temporary file."
   ]
  },
  {
   "cell_type": "code",
   "execution_count": 4,
   "metadata": {},
   "outputs": [],
   "source": [
    "import tempfile\n",
    "\n",
    "# create a temporary parquet file\n",
    "temp_file_parquet = tempfile.NamedTemporaryFile(delete=False, suffix=\".parquet\")\n",
    "\n",
    "# write the dataframe to the temporary file\n",
    "with open(temp_file_parquet.name, \"w\") as f:\n",
    "    df.write_parquet(f)"
   ]
  },
  {
   "cell_type": "markdown",
   "metadata": {},
   "source": [
    "## Loading the data in `haystack`\n",
    "\n",
    "We can read the data and convert the rows into `Document`s using the `DataFrameFileToDocument` component. It can be used to convert a DataFrame into a list of `Document`s."
   ]
  },
  {
   "cell_type": "code",
   "execution_count": 5,
   "metadata": {},
   "outputs": [
    {
     "name": "stderr",
     "output_type": "stream",
     "text": [
      "/Users/edoardoabati/Library/Application Support/hatch/env/virtual/dataframes-haystack/Gal9cSh8/dataframes-haystack/lib/python3.8/site-packages/haystack/core/errors.py:34: DeprecationWarning: PipelineMaxLoops is deprecated and will be remove in version '2.7.0'; use PipelineMaxComponentRuns instead.\n",
      "  warnings.warn(\n"
     ]
    }
   ],
   "source": [
    "from dataframes_haystack.components.converters import DataFrameFileToDocument"
   ]
  },
  {
   "cell_type": "code",
   "execution_count": 6,
   "metadata": {},
   "outputs": [],
   "source": [
    "file_converter = DataFrameFileToDocument(\n",
    "    content_column=\"summary\",\n",
    "    meta_columns=[\"title\", \"authors\", \"published\", \"primary_category\", \"categories\", \"pdf_url\"],\n",
    "    file_format=\"parquet\",\n",
    "    backend=\"polars\",\n",
    ")"
   ]
  },
  {
   "cell_type": "code",
   "execution_count": 7,
   "metadata": {},
   "outputs": [
    {
     "data": {
      "text/plain": [
       "{'documents': [Document(id=b550a0163e880995f1895a14ae3410ef88bb9d312bd69a149c125a2d9087afe1, content: 'Large Language Models (LLMs) have become widely adopted recently. Research\n",
       "  explores their use both a...', meta: {'title': 'Large Language Models as Software Components: A Taxonomy for LLM-Integrated Applications', 'authors': ['Irene Weber'], 'published': datetime.datetime(2024, 6, 13, 21, 32, 56, tzinfo=backports.zoneinfo.ZoneInfo(key='UTC')), 'primary_category': 'cs.SE', 'categories': ['cs.SE', 'cs.CL', 'cs.LG', 'A.1; I.2.7; D.2.11'], 'pdf_url': 'http://arxiv.org/pdf/2406.10300v1'}),\n",
       "  Document(id=fc64aeb2ac791e14cd3e1ec24d74bee04ce2c8cb8428e70fb040cafbab76365e, content: 'The rise of large language models (LLMs) has enabled LLM-based applications\n",
       "  (a.k.a. AI agents or co-...', meta: {'title': 'Parrot: Efficient Serving of LLM-based Applications with Semantic Variable', 'authors': ['Chaofan Lin', 'Zhenhua Han', 'Chengruidong Zhang', 'Yuqing Yang', 'Fan Yang', 'Chen Chen', 'Lili Qiu'], 'published': datetime.datetime(2024, 5, 30, 9, 46, 36, tzinfo=backports.zoneinfo.ZoneInfo(key='UTC')), 'primary_category': 'cs.LG', 'categories': ['cs.LG', 'cs.AI'], 'pdf_url': 'http://arxiv.org/pdf/2405.19888v1'}),\n",
       "  Document(id=479b45f57528bf4dd23e1c01314b399bca4b125a2065f978ad139b59d5f1f21c, content: 'General large language models (LLMs), represented by ChatGPT, have\n",
       "  demonstrated significant potentia...', meta: {'title': 'A Survey of Large Language Models for Code: Evolution, Benchmarking, and Future Trends', 'authors': ['Zibin Zheng', 'Kaiwen Ning', 'Yanlin Wang', 'Jingwen Zhang', 'Dewu Zheng', 'Mingxi Ye', 'Jiachi Chen'], 'published': datetime.datetime(2023, 11, 17, 7, 55, 16, tzinfo=backports.zoneinfo.ZoneInfo(key='UTC')), 'primary_category': 'cs.SE', 'categories': ['cs.SE'], 'pdf_url': 'http://arxiv.org/pdf/2311.10372v2'}),\n",
       "  Document(id=de8b9ac5619193f037562f2f38e4052df96d0e7ff3d8ff4a387898e9fc7fd79e, content: 'A graph is a fundamental data model to represent various entities and their\n",
       "  complex relationships in...', meta: {'title': 'A Survey of Large Language Models on Generative Graph Analytics: Query, Learning, and Applications', 'authors': ['Wenbo Shang', 'Xin Huang'], 'published': datetime.datetime(2024, 4, 23, 7, 39, 24, tzinfo=backports.zoneinfo.ZoneInfo(key='UTC')), 'primary_category': 'cs.CL', 'categories': ['cs.CL', 'cs.AI', 'cs.DB'], 'pdf_url': 'http://arxiv.org/pdf/2404.14809v1'}),\n",
       "  Document(id=4d0bdfbea62bfc9b2ab68ae10d0cd51ebc4728debabb9758a1ebd5e7a37b879b, content: 'This work summarizes two ways to accomplish Time-Series (TS) tasks in today's\n",
       "  Large Language Model (...', meta: {'title': \"TEST: Text Prototype Aligned Embedding to Activate LLM's Ability for Time Series\", 'authors': ['Chenxi Sun', 'Hongyan Li', 'Yaliang Li', 'Shenda Hong'], 'published': datetime.datetime(2023, 8, 16, 9, 16, 2, tzinfo=backports.zoneinfo.ZoneInfo(key='UTC')), 'primary_category': 'cs.CL', 'categories': ['cs.CL', 'cs.AI'], 'pdf_url': 'http://arxiv.org/pdf/2308.08241v2'}),\n",
       "  Document(id=dbc7fa154f875811cab410c9ed24e88c1ffb5813d9ae0f0d8be96ff7958be2ba, content: 'With the rise of large language models (LLMs), researchers are increasingly\n",
       "  exploring their applicat...', meta: {'title': 'From LLMs to LLM-based Agents for Software Engineering: A Survey of Current, Challenges and Future', 'authors': ['Haolin Jin', 'Linghan Huang', 'Haipeng Cai', 'Jun Yan', 'Bo Li', 'Huaming Chen'], 'published': datetime.datetime(2024, 8, 5, 14, 1, 15, tzinfo=backports.zoneinfo.ZoneInfo(key='UTC')), 'primary_category': 'cs.SE', 'categories': ['cs.SE', 'cs.AI', 'cs.CL'], 'pdf_url': 'http://arxiv.org/pdf/2408.02479v1'}),\n",
       "  Document(id=98ffd575fed718fbd6458fd46d785d188cb41396fef346da603decff998a4720, content: 'Large language models (LLMs) can label data faster and cheaper than humans\n",
       "  for various NLP tasks. De...', meta: {'title': 'MEGAnno+: A Human-LLM Collaborative Annotation System', 'authors': ['Hannah Kim', 'Kushan Mitra', 'Rafael Li Chen', 'Sajjadur Rahman', 'Dan Zhang'], 'published': datetime.datetime(2024, 2, 28, 4, 58, 7, tzinfo=backports.zoneinfo.ZoneInfo(key='UTC')), 'primary_category': 'cs.CL', 'categories': ['cs.CL', 'cs.HC'], 'pdf_url': 'http://arxiv.org/pdf/2402.18050v1'}),\n",
       "  Document(id=a04fd3e32828716a495b7575b24f62343f6033b54e3fa671ee7bf38aaa4c27b2, content: 'Large Language Model (LLM) assistants, such as ChatGPT, have emerged as\n",
       "  potential alternatives to se...', meta: {'title': 'Why and When LLM-Based Assistants Can Go Wrong: Investigating the Effectiveness of Prompt-Based Interactions for Software Help-Seeking', 'authors': ['Anjali Khurana', 'Hari Subramonyam', 'Parmit K Chilana'], 'published': datetime.datetime(2024, 2, 12, 19, 49, 58, tzinfo=backports.zoneinfo.ZoneInfo(key='UTC')), 'primary_category': 'cs.HC', 'categories': ['cs.HC', 'cs.AI', 'cs.LG'], 'pdf_url': 'http://arxiv.org/pdf/2402.08030v1'}),\n",
       "  Document(id=5a34f6971b2877a873b03fcf886acdfba8b60328239408b1d7874b1c7c7879bd, content: 'Alignment approaches such as RLHF and DPO are actively investigated to align\n",
       "  large language models (...', meta: {'title': 'Systematic Evaluation of LLM-as-a-Judge in LLM Alignment Tasks: Explainable Metrics and Diverse Prompt Templates', 'authors': ['Hui Wei', 'Shenghua He', 'Tian Xia', 'Andy Wong', 'Jingyang Lin', 'Mei Han'], 'published': datetime.datetime(2024, 8, 23, 11, 49, 1, tzinfo=backports.zoneinfo.ZoneInfo(key='UTC')), 'primary_category': 'cs.CL', 'categories': ['cs.CL'], 'pdf_url': 'http://arxiv.org/pdf/2408.13006v1'}),\n",
       "  Document(id=8ab28c8637feaba2772674b7e1b8d30ae1675a9aa617c5213e3c99d65bb44fc7, content: 'Since late 2022, Large Language Models (LLMs) have become very prominent with\n",
       "  LLMs like ChatGPT and ...', meta: {'title': 'On the Origin of LLMs: An Evolutionary Tree and Graph for 15,821 Large Language Models', 'authors': ['Sarah Gao', 'Andrew Kean Gao'], 'published': datetime.datetime(2023, 7, 19, 7, 17, 43, tzinfo=backports.zoneinfo.ZoneInfo(key='UTC')), 'primary_category': 'cs.DL', 'categories': ['cs.DL', 'cs.CL', 'I.2.1; H.5.0'], 'pdf_url': 'http://arxiv.org/pdf/2307.09793v1'})]}"
      ]
     },
     "execution_count": 7,
     "metadata": {},
     "output_type": "execute_result"
    }
   ],
   "source": [
    "file_converter.run(file_paths=[temp_file_parquet.name])"
   ]
  },
  {
   "cell_type": "markdown",
   "metadata": {},
   "source": [
    "If we want to use a column of the dataframe as unique identifier for documents, we can set the `index_column` parameter."
   ]
  },
  {
   "cell_type": "code",
   "execution_count": 8,
   "metadata": {},
   "outputs": [
    {
     "data": {
      "text/plain": [
       "{'documents': [Document(id=http://arxiv.org/abs/2406.10300v1, content: 'Large Language Models (LLMs) have become widely adopted recently. Research\n",
       "  explores their use both a...', meta: {'title': 'Large Language Models as Software Components: A Taxonomy for LLM-Integrated Applications', 'authors': ['Irene Weber'], 'published': datetime.datetime(2024, 6, 13, 21, 32, 56, tzinfo=backports.zoneinfo.ZoneInfo(key='UTC')), 'primary_category': 'cs.SE', 'categories': ['cs.SE', 'cs.CL', 'cs.LG', 'A.1; I.2.7; D.2.11'], 'pdf_url': 'http://arxiv.org/pdf/2406.10300v1'}),\n",
       "  Document(id=http://arxiv.org/abs/2405.19888v1, content: 'The rise of large language models (LLMs) has enabled LLM-based applications\n",
       "  (a.k.a. AI agents or co-...', meta: {'title': 'Parrot: Efficient Serving of LLM-based Applications with Semantic Variable', 'authors': ['Chaofan Lin', 'Zhenhua Han', 'Chengruidong Zhang', 'Yuqing Yang', 'Fan Yang', 'Chen Chen', 'Lili Qiu'], 'published': datetime.datetime(2024, 5, 30, 9, 46, 36, tzinfo=backports.zoneinfo.ZoneInfo(key='UTC')), 'primary_category': 'cs.LG', 'categories': ['cs.LG', 'cs.AI'], 'pdf_url': 'http://arxiv.org/pdf/2405.19888v1'}),\n",
       "  Document(id=http://arxiv.org/abs/2311.10372v2, content: 'General large language models (LLMs), represented by ChatGPT, have\n",
       "  demonstrated significant potentia...', meta: {'title': 'A Survey of Large Language Models for Code: Evolution, Benchmarking, and Future Trends', 'authors': ['Zibin Zheng', 'Kaiwen Ning', 'Yanlin Wang', 'Jingwen Zhang', 'Dewu Zheng', 'Mingxi Ye', 'Jiachi Chen'], 'published': datetime.datetime(2023, 11, 17, 7, 55, 16, tzinfo=backports.zoneinfo.ZoneInfo(key='UTC')), 'primary_category': 'cs.SE', 'categories': ['cs.SE'], 'pdf_url': 'http://arxiv.org/pdf/2311.10372v2'}),\n",
       "  Document(id=http://arxiv.org/abs/2404.14809v1, content: 'A graph is a fundamental data model to represent various entities and their\n",
       "  complex relationships in...', meta: {'title': 'A Survey of Large Language Models on Generative Graph Analytics: Query, Learning, and Applications', 'authors': ['Wenbo Shang', 'Xin Huang'], 'published': datetime.datetime(2024, 4, 23, 7, 39, 24, tzinfo=backports.zoneinfo.ZoneInfo(key='UTC')), 'primary_category': 'cs.CL', 'categories': ['cs.CL', 'cs.AI', 'cs.DB'], 'pdf_url': 'http://arxiv.org/pdf/2404.14809v1'}),\n",
       "  Document(id=http://arxiv.org/abs/2308.08241v2, content: 'This work summarizes two ways to accomplish Time-Series (TS) tasks in today's\n",
       "  Large Language Model (...', meta: {'title': \"TEST: Text Prototype Aligned Embedding to Activate LLM's Ability for Time Series\", 'authors': ['Chenxi Sun', 'Hongyan Li', 'Yaliang Li', 'Shenda Hong'], 'published': datetime.datetime(2023, 8, 16, 9, 16, 2, tzinfo=backports.zoneinfo.ZoneInfo(key='UTC')), 'primary_category': 'cs.CL', 'categories': ['cs.CL', 'cs.AI'], 'pdf_url': 'http://arxiv.org/pdf/2308.08241v2'}),\n",
       "  Document(id=http://arxiv.org/abs/2408.02479v1, content: 'With the rise of large language models (LLMs), researchers are increasingly\n",
       "  exploring their applicat...', meta: {'title': 'From LLMs to LLM-based Agents for Software Engineering: A Survey of Current, Challenges and Future', 'authors': ['Haolin Jin', 'Linghan Huang', 'Haipeng Cai', 'Jun Yan', 'Bo Li', 'Huaming Chen'], 'published': datetime.datetime(2024, 8, 5, 14, 1, 15, tzinfo=backports.zoneinfo.ZoneInfo(key='UTC')), 'primary_category': 'cs.SE', 'categories': ['cs.SE', 'cs.AI', 'cs.CL'], 'pdf_url': 'http://arxiv.org/pdf/2408.02479v1'}),\n",
       "  Document(id=http://arxiv.org/abs/2402.18050v1, content: 'Large language models (LLMs) can label data faster and cheaper than humans\n",
       "  for various NLP tasks. De...', meta: {'title': 'MEGAnno+: A Human-LLM Collaborative Annotation System', 'authors': ['Hannah Kim', 'Kushan Mitra', 'Rafael Li Chen', 'Sajjadur Rahman', 'Dan Zhang'], 'published': datetime.datetime(2024, 2, 28, 4, 58, 7, tzinfo=backports.zoneinfo.ZoneInfo(key='UTC')), 'primary_category': 'cs.CL', 'categories': ['cs.CL', 'cs.HC'], 'pdf_url': 'http://arxiv.org/pdf/2402.18050v1'}),\n",
       "  Document(id=http://arxiv.org/abs/2402.08030v1, content: 'Large Language Model (LLM) assistants, such as ChatGPT, have emerged as\n",
       "  potential alternatives to se...', meta: {'title': 'Why and When LLM-Based Assistants Can Go Wrong: Investigating the Effectiveness of Prompt-Based Interactions for Software Help-Seeking', 'authors': ['Anjali Khurana', 'Hari Subramonyam', 'Parmit K Chilana'], 'published': datetime.datetime(2024, 2, 12, 19, 49, 58, tzinfo=backports.zoneinfo.ZoneInfo(key='UTC')), 'primary_category': 'cs.HC', 'categories': ['cs.HC', 'cs.AI', 'cs.LG'], 'pdf_url': 'http://arxiv.org/pdf/2402.08030v1'}),\n",
       "  Document(id=http://arxiv.org/abs/2408.13006v1, content: 'Alignment approaches such as RLHF and DPO are actively investigated to align\n",
       "  large language models (...', meta: {'title': 'Systematic Evaluation of LLM-as-a-Judge in LLM Alignment Tasks: Explainable Metrics and Diverse Prompt Templates', 'authors': ['Hui Wei', 'Shenghua He', 'Tian Xia', 'Andy Wong', 'Jingyang Lin', 'Mei Han'], 'published': datetime.datetime(2024, 8, 23, 11, 49, 1, tzinfo=backports.zoneinfo.ZoneInfo(key='UTC')), 'primary_category': 'cs.CL', 'categories': ['cs.CL'], 'pdf_url': 'http://arxiv.org/pdf/2408.13006v1'}),\n",
       "  Document(id=http://arxiv.org/abs/2307.09793v1, content: 'Since late 2022, Large Language Models (LLMs) have become very prominent with\n",
       "  LLMs like ChatGPT and ...', meta: {'title': 'On the Origin of LLMs: An Evolutionary Tree and Graph for 15,821 Large Language Models', 'authors': ['Sarah Gao', 'Andrew Kean Gao'], 'published': datetime.datetime(2023, 7, 19, 7, 17, 43, tzinfo=backports.zoneinfo.ZoneInfo(key='UTC')), 'primary_category': 'cs.DL', 'categories': ['cs.DL', 'cs.CL', 'I.2.1; H.5.0'], 'pdf_url': 'http://arxiv.org/pdf/2307.09793v1'})]}"
      ]
     },
     "execution_count": 8,
     "metadata": {},
     "output_type": "execute_result"
    }
   ],
   "source": [
    "file_converter = DataFrameFileToDocument(\n",
    "    content_column=\"summary\",\n",
    "    meta_columns=[\"title\", \"authors\", \"published\", \"primary_category\", \"categories\", \"pdf_url\"],\n",
    "    index_column=\"entry_id\",\n",
    "    file_format=\"parquet\",\n",
    "    backend=\"polars\",\n",
    ")\n",
    "file_converter.run(file_paths=[temp_file_parquet.name])"
   ]
  },
  {
   "cell_type": "markdown",
   "metadata": {},
   "source": [
    "If you want to use `pandas` as the backend to read the data, you can set `backend=\"pandas\"`."
   ]
  },
  {
   "cell_type": "code",
   "execution_count": 9,
   "metadata": {},
   "outputs": [
    {
     "data": {
      "text/plain": [
       "{'documents': [Document(id=http://arxiv.org/abs/2406.10300v1, content: 'Large Language Models (LLMs) have become widely adopted recently. Research\n",
       "  explores their use both a...', meta: {'title': 'Large Language Models as Software Components: A Taxonomy for LLM-Integrated Applications', 'authors': array(['Irene Weber'], dtype=object), 'published': Timestamp('2024-06-13 21:32:56+0000', tz='UTC'), 'primary_category': 'cs.SE', 'categories': array(['cs.SE', 'cs.CL', 'cs.LG', 'A.1; I.2.7; D.2.11'], dtype=object), 'pdf_url': 'http://arxiv.org/pdf/2406.10300v1'}),\n",
       "  Document(id=http://arxiv.org/abs/2405.19888v1, content: 'The rise of large language models (LLMs) has enabled LLM-based applications\n",
       "  (a.k.a. AI agents or co-...', meta: {'title': 'Parrot: Efficient Serving of LLM-based Applications with Semantic Variable', 'authors': array(['Chaofan Lin', 'Zhenhua Han', 'Chengruidong Zhang', 'Yuqing Yang',\n",
       "         'Fan Yang', 'Chen Chen', 'Lili Qiu'], dtype=object), 'published': Timestamp('2024-05-30 09:46:36+0000', tz='UTC'), 'primary_category': 'cs.LG', 'categories': array(['cs.LG', 'cs.AI'], dtype=object), 'pdf_url': 'http://arxiv.org/pdf/2405.19888v1'}),\n",
       "  Document(id=http://arxiv.org/abs/2311.10372v2, content: 'General large language models (LLMs), represented by ChatGPT, have\n",
       "  demonstrated significant potentia...', meta: {'title': 'A Survey of Large Language Models for Code: Evolution, Benchmarking, and Future Trends', 'authors': array(['Zibin Zheng', 'Kaiwen Ning', 'Yanlin Wang', 'Jingwen Zhang',\n",
       "         'Dewu Zheng', 'Mingxi Ye', 'Jiachi Chen'], dtype=object), 'published': Timestamp('2023-11-17 07:55:16+0000', tz='UTC'), 'primary_category': 'cs.SE', 'categories': array(['cs.SE'], dtype=object), 'pdf_url': 'http://arxiv.org/pdf/2311.10372v2'}),\n",
       "  Document(id=http://arxiv.org/abs/2404.14809v1, content: 'A graph is a fundamental data model to represent various entities and their\n",
       "  complex relationships in...', meta: {'title': 'A Survey of Large Language Models on Generative Graph Analytics: Query, Learning, and Applications', 'authors': array(['Wenbo Shang', 'Xin Huang'], dtype=object), 'published': Timestamp('2024-04-23 07:39:24+0000', tz='UTC'), 'primary_category': 'cs.CL', 'categories': array(['cs.CL', 'cs.AI', 'cs.DB'], dtype=object), 'pdf_url': 'http://arxiv.org/pdf/2404.14809v1'}),\n",
       "  Document(id=http://arxiv.org/abs/2308.08241v2, content: 'This work summarizes two ways to accomplish Time-Series (TS) tasks in today's\n",
       "  Large Language Model (...', meta: {'title': \"TEST: Text Prototype Aligned Embedding to Activate LLM's Ability for Time Series\", 'authors': array(['Chenxi Sun', 'Hongyan Li', 'Yaliang Li', 'Shenda Hong'],\n",
       "        dtype=object), 'published': Timestamp('2023-08-16 09:16:02+0000', tz='UTC'), 'primary_category': 'cs.CL', 'categories': array(['cs.CL', 'cs.AI'], dtype=object), 'pdf_url': 'http://arxiv.org/pdf/2308.08241v2'}),\n",
       "  Document(id=http://arxiv.org/abs/2408.02479v1, content: 'With the rise of large language models (LLMs), researchers are increasingly\n",
       "  exploring their applicat...', meta: {'title': 'From LLMs to LLM-based Agents for Software Engineering: A Survey of Current, Challenges and Future', 'authors': array(['Haolin Jin', 'Linghan Huang', 'Haipeng Cai', 'Jun Yan', 'Bo Li',\n",
       "         'Huaming Chen'], dtype=object), 'published': Timestamp('2024-08-05 14:01:15+0000', tz='UTC'), 'primary_category': 'cs.SE', 'categories': array(['cs.SE', 'cs.AI', 'cs.CL'], dtype=object), 'pdf_url': 'http://arxiv.org/pdf/2408.02479v1'}),\n",
       "  Document(id=http://arxiv.org/abs/2402.18050v1, content: 'Large language models (LLMs) can label data faster and cheaper than humans\n",
       "  for various NLP tasks. De...', meta: {'title': 'MEGAnno+: A Human-LLM Collaborative Annotation System', 'authors': array(['Hannah Kim', 'Kushan Mitra', 'Rafael Li Chen', 'Sajjadur Rahman',\n",
       "         'Dan Zhang'], dtype=object), 'published': Timestamp('2024-02-28 04:58:07+0000', tz='UTC'), 'primary_category': 'cs.CL', 'categories': array(['cs.CL', 'cs.HC'], dtype=object), 'pdf_url': 'http://arxiv.org/pdf/2402.18050v1'}),\n",
       "  Document(id=http://arxiv.org/abs/2402.08030v1, content: 'Large Language Model (LLM) assistants, such as ChatGPT, have emerged as\n",
       "  potential alternatives to se...', meta: {'title': 'Why and When LLM-Based Assistants Can Go Wrong: Investigating the Effectiveness of Prompt-Based Interactions for Software Help-Seeking', 'authors': array(['Anjali Khurana', 'Hari Subramonyam', 'Parmit K Chilana'],\n",
       "        dtype=object), 'published': Timestamp('2024-02-12 19:49:58+0000', tz='UTC'), 'primary_category': 'cs.HC', 'categories': array(['cs.HC', 'cs.AI', 'cs.LG'], dtype=object), 'pdf_url': 'http://arxiv.org/pdf/2402.08030v1'}),\n",
       "  Document(id=http://arxiv.org/abs/2408.13006v1, content: 'Alignment approaches such as RLHF and DPO are actively investigated to align\n",
       "  large language models (...', meta: {'title': 'Systematic Evaluation of LLM-as-a-Judge in LLM Alignment Tasks: Explainable Metrics and Diverse Prompt Templates', 'authors': array(['Hui Wei', 'Shenghua He', 'Tian Xia', 'Andy Wong', 'Jingyang Lin',\n",
       "         'Mei Han'], dtype=object), 'published': Timestamp('2024-08-23 11:49:01+0000', tz='UTC'), 'primary_category': 'cs.CL', 'categories': array(['cs.CL'], dtype=object), 'pdf_url': 'http://arxiv.org/pdf/2408.13006v1'}),\n",
       "  Document(id=http://arxiv.org/abs/2307.09793v1, content: 'Since late 2022, Large Language Models (LLMs) have become very prominent with\n",
       "  LLMs like ChatGPT and ...', meta: {'title': 'On the Origin of LLMs: An Evolutionary Tree and Graph for 15,821 Large Language Models', 'authors': array(['Sarah Gao', 'Andrew Kean Gao'], dtype=object), 'published': Timestamp('2023-07-19 07:17:43+0000', tz='UTC'), 'primary_category': 'cs.DL', 'categories': array(['cs.DL', 'cs.CL', 'I.2.1; H.5.0'], dtype=object), 'pdf_url': 'http://arxiv.org/pdf/2307.09793v1'})]}"
      ]
     },
     "execution_count": 9,
     "metadata": {},
     "output_type": "execute_result"
    }
   ],
   "source": [
    "pandas_file_converter = DataFrameFileToDocument(\n",
    "    content_column=\"summary\",\n",
    "    meta_columns=[\"title\", \"authors\", \"published\", \"primary_category\", \"categories\", \"pdf_url\"],\n",
    "    index_column=\"entry_id\",\n",
    "    file_format=\"parquet\",\n",
    "    backend=\"pandas\",\n",
    ")\n",
    "pandas_file_converter.run(file_paths=[temp_file_parquet.name])"
   ]
  },
  {
   "cell_type": "markdown",
   "metadata": {},
   "source": [
    "### Using the components in a pipeline"
   ]
  },
  {
   "cell_type": "code",
   "execution_count": 10,
   "metadata": {},
   "outputs": [],
   "source": [
    "from haystack import Pipeline\n",
    "from haystack.components.writers import DocumentWriter\n",
    "from haystack.document_stores.in_memory import InMemoryDocumentStore"
   ]
  },
  {
   "cell_type": "code",
   "execution_count": 11,
   "metadata": {},
   "outputs": [
    {
     "data": {
      "image/png": "[encoded data removed]",
      "text/plain": [
       "<IPython.core.display.Image object>"
      ]
     },
     "metadata": {},
     "output_type": "display_data"
    }
   ],
   "source": [
    "document_store = InMemoryDocumentStore()\n",
    "\n",
    "indexing = Pipeline()\n",
    "indexing.add_component(\n",
    "    \"file_converter\",\n",
    "    DataFrameFileToDocument(\n",
    "        content_column=\"summary\",\n",
    "        meta_columns=[\"title\", \"authors\", \"published\", \"primary_category\", \"categories\", \"pdf_url\"],\n",
    "        index_column=\"entry_id\",\n",
    "        file_format=\"parquet\",\n",
    "        backend=\"polars\",\n",
    "    ),\n",
    ")\n",
    "indexing.add_component(\"writer\", DocumentWriter(document_store))\n",
    "indexing.connect(\"file_converter\", \"writer\")\n",
    "indexing.show()"
   ]
  },
  {
   "cell_type": "code",
   "execution_count": 12,
   "metadata": {},
   "outputs": [
    {
     "data": {
      "text/plain": [
       "{'writer': {'documents_written': 10}}"
      ]
     },
     "execution_count": 12,
     "metadata": {},
     "output_type": "execute_result"
    }
   ],
   "source": [
    "indexing.run({\"file_converter\": {\"file_paths\": [temp_file_parquet.name]}})"
   ]
  },
  {
   "cell_type": "markdown",
   "metadata": {},
   "source": [
    "Saving the data in a temporary file."
   ]
  },
  {
   "cell_type": "code",
   "execution_count": 13,
   "metadata": {},
   "outputs": [],
   "source": [
    "# Cleanup\n",
    "# delete the temporary file\n",
    "from pathlib import Path\n",
    "\n",
    "Path(temp_file_parquet.name).unlink()"
   ]
  },
  {
   "cell_type": "code",
   "execution_count": null,
   "metadata": {},
   "outputs": [],
   "source": []
  }
 ],
 "metadata": {
  "kernelspec": {
   "display_name": "dataframes-haystack",
   "language": "python",
   "name": "python3"
  },
  "language_info": {
   "codemirror_mode": {
    "name": "ipython",
    "version": 3
   },
   "file_extension": ".py",
   "mimetype": "text/x-python",
   "name": "python",
   "nbconvert_exporter": "python",
   "pygments_lexer": "ipython3",
   "version": "3.8.19"
  }
 },
 "nbformat": 4,
 "nbformat_minor": 2
}
