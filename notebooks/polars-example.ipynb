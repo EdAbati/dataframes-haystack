{
 "cells": [
  {
   "cell_type": "markdown",
   "metadata": {},
   "source": [
    "# Using `polars` with `dataframe-haystack`\n",
    "\n",
    "[![Open In Colab](https://colab.research.google.com/assets/colab-badge.svg)](https://colab.research.google.com/github/EdAbati/dataframes-haystack/blob/main/notebooks/polars-example.ipynb)\n"
   ]
  },
  {
   "cell_type": "code",
   "execution_count": 1,
   "metadata": {},
   "outputs": [],
   "source": [
    "# when running in Google Colab (or similar), install the following packages\n",
    "# !pip install 'dataframe-haystack[polars]' arxiv"
   ]
  },
  {
   "cell_type": "code",
   "execution_count": 2,
   "metadata": {},
   "outputs": [],
   "source": [
    "import polars as pl"
   ]
  },
  {
   "cell_type": "markdown",
   "metadata": {},
   "source": [
    "## Downloading the dataset\n",
    "\n",
    "We are using a dataset that contains abstracts of papers uploaded on arXiv. We are using the arXiv API to get the data."
   ]
  },
  {
   "cell_type": "code",
   "execution_count": 3,
   "metadata": {},
   "outputs": [],
   "source": [
    "def get_arxiv_data(search_query: str, max_num_rows: int = 10) -> pl.DataFrame:\n",
    "    \"\"\"Get data using the arXiv API.\"\"\"\n",
    "    import arxiv\n",
    "\n",
    "    arxiv_client = arxiv.Client()\n",
    "\n",
    "    search = arxiv.Search(query=search_query, max_results=max_num_rows, sort_by=arxiv.SortCriterion.Relevance)\n",
    "    results_list = [\n",
    "        {\n",
    "            \"title\": result.title,\n",
    "            \"authors\": [author.name for author in result.authors],\n",
    "            \"summary\": result.summary,\n",
    "            \"published\": result.published,\n",
    "            \"primary_category\": result.primary_category,\n",
    "            \"categories\": result.categories,\n",
    "            \"pdf_url\": result.pdf_url,\n",
    "            \"entry_id\": result.entry_id,\n",
    "        }\n",
    "        for result in arxiv_client.results(search)\n",
    "    ]\n",
    "    return pl.DataFrame(results_list)"
   ]
  },
  {
   "cell_type": "markdown",
   "metadata": {},
   "source": [
    "We will have a dataset of 10 rows with papers about LLMs."
   ]
  },
  {
   "cell_type": "code",
   "execution_count": 4,
   "metadata": {},
   "outputs": [
    {
     "data": {
      "text/html": [
       "<div><style>\n",
       ".dataframe > thead > tr,\n",
       ".dataframe > tbody > tr {\n",
       "  text-align: right;\n",
       "  white-space: pre-wrap;\n",
       "}\n",
       "</style>\n",
       "<small>shape: (5, 8)</small><table border=\"1\" class=\"dataframe\"><thead><tr><th>title</th><th>authors</th><th>summary</th><th>published</th><th>primary_category</th><th>categories</th><th>pdf_url</th><th>entry_id</th></tr><tr><td>str</td><td>list[str]</td><td>str</td><td>datetime[μs]</td><td>str</td><td>list[str]</td><td>str</td><td>str</td></tr></thead><tbody><tr><td>&quot;Large Language Models as Softw…</td><td>[&quot;Irene Weber&quot;]</td><td>&quot;Large Language Models (LLMs) h…</td><td>2024-06-13 21:32:56</td><td>&quot;cs.SE&quot;</td><td>[&quot;cs.SE&quot;, &quot;cs.CL&quot;, … &quot;A.1; I.2.7; D.2.11&quot;]</td><td>&quot;http://arxiv.org/pdf/2406.1030…</td><td>&quot;http://arxiv.org/abs/2406.1030…</td></tr><tr><td>&quot;Parrot: Efficient Serving of L…</td><td>[&quot;Chaofan Lin&quot;, &quot;Zhenhua Han&quot;, … &quot;Lili Qiu&quot;]</td><td>&quot;The rise of large language mod…</td><td>2024-05-30 09:46:36</td><td>&quot;cs.LG&quot;</td><td>[&quot;cs.LG&quot;, &quot;cs.AI&quot;]</td><td>&quot;http://arxiv.org/pdf/2405.1988…</td><td>&quot;http://arxiv.org/abs/2405.1988…</td></tr><tr><td>&quot;A Survey of Large Language Mod…</td><td>[&quot;Zibin Zheng&quot;, &quot;Kaiwen Ning&quot;, … &quot;Jiachi Chen&quot;]</td><td>&quot;General large language models …</td><td>2023-11-17 07:55:16</td><td>&quot;cs.SE&quot;</td><td>[&quot;cs.SE&quot;]</td><td>&quot;http://arxiv.org/pdf/2311.1037…</td><td>&quot;http://arxiv.org/abs/2311.1037…</td></tr><tr><td>&quot;A Survey of Large Language Mod…</td><td>[&quot;Wenbo Shang&quot;, &quot;Xin Huang&quot;]</td><td>&quot;A graph is a fundamental data …</td><td>2024-04-23 07:39:24</td><td>&quot;cs.CL&quot;</td><td>[&quot;cs.CL&quot;, &quot;cs.AI&quot;, &quot;cs.DB&quot;]</td><td>&quot;http://arxiv.org/pdf/2404.1480…</td><td>&quot;http://arxiv.org/abs/2404.1480…</td></tr><tr><td>&quot;TEST: Text Prototype Aligned E…</td><td>[&quot;Chenxi Sun&quot;, &quot;Hongyan Li&quot;, … &quot;Shenda Hong&quot;]</td><td>&quot;This work summarizes two ways …</td><td>2023-08-16 09:16:02</td><td>&quot;cs.CL&quot;</td><td>[&quot;cs.CL&quot;, &quot;cs.AI&quot;]</td><td>&quot;http://arxiv.org/pdf/2308.0824…</td><td>&quot;http://arxiv.org/abs/2308.0824…</td></tr></tbody></table></div>"
      ],
      "text/plain": [
       "shape: (5, 8)\n",
       "┌────────────┬────────────┬────────────┬───────────┬───────────┬───────────┬───────────┬───────────┐\n",
       "│ title      ┆ authors    ┆ summary    ┆ published ┆ primary_c ┆ categorie ┆ pdf_url   ┆ entry_id  │\n",
       "│ ---        ┆ ---        ┆ ---        ┆ ---       ┆ ategory   ┆ s         ┆ ---       ┆ ---       │\n",
       "│ str        ┆ list[str]  ┆ str        ┆ datetime[ ┆ ---       ┆ ---       ┆ str       ┆ str       │\n",
       "│            ┆            ┆            ┆ μs]       ┆ str       ┆ list[str] ┆           ┆           │\n",
       "╞════════════╪════════════╪════════════╪═══════════╪═══════════╪═══════════╪═══════════╪═══════════╡\n",
       "│ Large      ┆ [\"Irene    ┆ Large      ┆ 2024-06-1 ┆ cs.SE     ┆ [\"cs.SE\", ┆ http://ar ┆ http://ar │\n",
       "│ Language   ┆ Weber\"]    ┆ Language   ┆ 3         ┆           ┆ \"cs.CL\",  ┆ xiv.org/p ┆ xiv.org/a │\n",
       "│ Models as  ┆            ┆ Models     ┆ 21:32:56  ┆           ┆ … \"A.1;   ┆ df/2406.1 ┆ bs/2406.1 │\n",
       "│ Softw…     ┆            ┆ (LLMs) h…  ┆           ┆           ┆ I.2…      ┆ 030…      ┆ 030…      │\n",
       "│ Parrot:    ┆ [\"Chaofan  ┆ The rise   ┆ 2024-05-3 ┆ cs.LG     ┆ [\"cs.LG\", ┆ http://ar ┆ http://ar │\n",
       "│ Efficient  ┆ Lin\",      ┆ of large   ┆ 0         ┆           ┆ \"cs.AI\"]  ┆ xiv.org/p ┆ xiv.org/a │\n",
       "│ Serving of ┆ \"Zhenhua   ┆ language   ┆ 09:46:36  ┆           ┆           ┆ df/2405.1 ┆ bs/2405.1 │\n",
       "│ L…         ┆ Han\",…     ┆ mod…       ┆           ┆           ┆           ┆ 988…      ┆ 988…      │\n",
       "│ A Survey   ┆ [\"Zibin    ┆ General    ┆ 2023-11-1 ┆ cs.SE     ┆ [\"cs.SE\"] ┆ http://ar ┆ http://ar │\n",
       "│ of Large   ┆ Zheng\",    ┆ large      ┆ 7         ┆           ┆           ┆ xiv.org/p ┆ xiv.org/a │\n",
       "│ Language   ┆ \"Kaiwen    ┆ language   ┆ 07:55:16  ┆           ┆           ┆ df/2311.1 ┆ bs/2311.1 │\n",
       "│ Mod…       ┆ Ning\",…    ┆ models …   ┆           ┆           ┆           ┆ 037…      ┆ 037…      │\n",
       "│ A Survey   ┆ [\"Wenbo    ┆ A graph is ┆ 2024-04-2 ┆ cs.CL     ┆ [\"cs.CL\", ┆ http://ar ┆ http://ar │\n",
       "│ of Large   ┆ Shang\",    ┆ a fundamen ┆ 3         ┆           ┆ \"cs.AI\",  ┆ xiv.org/p ┆ xiv.org/a │\n",
       "│ Language   ┆ \"Xin       ┆ tal data … ┆ 07:39:24  ┆           ┆ \"cs.DB\"]  ┆ df/2404.1 ┆ bs/2404.1 │\n",
       "│ Mod…       ┆ Huang\"]    ┆            ┆           ┆           ┆           ┆ 480…      ┆ 480…      │\n",
       "│ TEST: Text ┆ [\"Chenxi   ┆ This work  ┆ 2023-08-1 ┆ cs.CL     ┆ [\"cs.CL\", ┆ http://ar ┆ http://ar │\n",
       "│ Prototype  ┆ Sun\",      ┆ summarizes ┆ 6         ┆           ┆ \"cs.AI\"]  ┆ xiv.org/p ┆ xiv.org/a │\n",
       "│ Aligned E… ┆ \"Hongyan   ┆ two ways … ┆ 09:16:02  ┆           ┆           ┆ df/2308.0 ┆ bs/2308.0 │\n",
       "│            ┆ Li\", ……    ┆            ┆           ┆           ┆           ┆ 824…      ┆ 824…      │\n",
       "└────────────┴────────────┴────────────┴───────────┴───────────┴───────────┴───────────┴───────────┘"
      ]
     },
     "execution_count": 4,
     "metadata": {},
     "output_type": "execute_result"
    }
   ],
   "source": [
    "df = get_arxiv_data(\"llm\", max_num_rows=10)\n",
    "df.head()"
   ]
  },
  {
   "cell_type": "markdown",
   "metadata": {},
   "source": [
    "Saving the data in a temporary file."
   ]
  },
  {
   "cell_type": "code",
   "execution_count": 5,
   "metadata": {},
   "outputs": [],
   "source": [
    "import tempfile\n",
    "\n",
    "# create a temporary file\n",
    "temp_file = tempfile.NamedTemporaryFile(delete=False, suffix=\".parquet\")\n",
    "\n",
    "# write the dataframe to the temporary file\n",
    "with open(temp_file.name, \"w\") as f:\n",
    "    df.write_parquet(f)"
   ]
  },
  {
   "cell_type": "markdown",
   "metadata": {},
   "source": [
    "## Loading the data in `haystack`\n",
    "\n",
    "We can read the data using a `FileToPolarsDataFrame` and convert the rows into `Document`s using a `PolarsDataFrameConverter` component."
   ]
  },
  {
   "cell_type": "code",
   "execution_count": 6,
   "metadata": {},
   "outputs": [],
   "source": [
    "from dataframes_haystack.components.converters.polars import FileToPolarsDataFrame, PolarsDataFrameConverter"
   ]
  },
  {
   "cell_type": "code",
   "execution_count": 7,
   "metadata": {},
   "outputs": [],
   "source": [
    "file_to_polars = FileToPolarsDataFrame(file_format=\"parquet\")"
   ]
  },
  {
   "cell_type": "code",
   "execution_count": 8,
   "metadata": {},
   "outputs": [],
   "source": [
    "output_dataframe = file_to_polars.run(file_paths=[temp_file.name])"
   ]
  },
  {
   "cell_type": "code",
   "execution_count": 9,
   "metadata": {},
   "outputs": [
    {
     "data": {
      "text/plain": [
       "dict_keys(['dataframe'])"
      ]
     },
     "execution_count": 9,
     "metadata": {},
     "output_type": "execute_result"
    }
   ],
   "source": [
    "# the output_dataframe is a dictionary with a dataframe key\n",
    "output_dataframe.keys()"
   ]
  },
  {
   "cell_type": "code",
   "execution_count": 10,
   "metadata": {},
   "outputs": [
    {
     "data": {
      "text/html": [
       "<div><style>\n",
       ".dataframe > thead > tr,\n",
       ".dataframe > tbody > tr {\n",
       "  text-align: right;\n",
       "  white-space: pre-wrap;\n",
       "}\n",
       "</style>\n",
       "<small>shape: (5, 8)</small><table border=\"1\" class=\"dataframe\"><thead><tr><th>title</th><th>authors</th><th>summary</th><th>published</th><th>primary_category</th><th>categories</th><th>pdf_url</th><th>entry_id</th></tr><tr><td>str</td><td>list[str]</td><td>str</td><td>datetime[μs]</td><td>str</td><td>list[str]</td><td>str</td><td>str</td></tr></thead><tbody><tr><td>&quot;Large Language Models as Softw…</td><td>[&quot;Irene Weber&quot;]</td><td>&quot;Large Language Models (LLMs) h…</td><td>2024-06-13 21:32:56</td><td>&quot;cs.SE&quot;</td><td>[&quot;cs.SE&quot;, &quot;cs.CL&quot;, … &quot;A.1; I.2.7; D.2.11&quot;]</td><td>&quot;http://arxiv.org/pdf/2406.1030…</td><td>&quot;http://arxiv.org/abs/2406.1030…</td></tr><tr><td>&quot;Parrot: Efficient Serving of L…</td><td>[&quot;Chaofan Lin&quot;, &quot;Zhenhua Han&quot;, … &quot;Lili Qiu&quot;]</td><td>&quot;The rise of large language mod…</td><td>2024-05-30 09:46:36</td><td>&quot;cs.LG&quot;</td><td>[&quot;cs.LG&quot;, &quot;cs.AI&quot;]</td><td>&quot;http://arxiv.org/pdf/2405.1988…</td><td>&quot;http://arxiv.org/abs/2405.1988…</td></tr><tr><td>&quot;A Survey of Large Language Mod…</td><td>[&quot;Zibin Zheng&quot;, &quot;Kaiwen Ning&quot;, … &quot;Jiachi Chen&quot;]</td><td>&quot;General large language models …</td><td>2023-11-17 07:55:16</td><td>&quot;cs.SE&quot;</td><td>[&quot;cs.SE&quot;]</td><td>&quot;http://arxiv.org/pdf/2311.1037…</td><td>&quot;http://arxiv.org/abs/2311.1037…</td></tr><tr><td>&quot;A Survey of Large Language Mod…</td><td>[&quot;Wenbo Shang&quot;, &quot;Xin Huang&quot;]</td><td>&quot;A graph is a fundamental data …</td><td>2024-04-23 07:39:24</td><td>&quot;cs.CL&quot;</td><td>[&quot;cs.CL&quot;, &quot;cs.AI&quot;, &quot;cs.DB&quot;]</td><td>&quot;http://arxiv.org/pdf/2404.1480…</td><td>&quot;http://arxiv.org/abs/2404.1480…</td></tr><tr><td>&quot;TEST: Text Prototype Aligned E…</td><td>[&quot;Chenxi Sun&quot;, &quot;Hongyan Li&quot;, … &quot;Shenda Hong&quot;]</td><td>&quot;This work summarizes two ways …</td><td>2023-08-16 09:16:02</td><td>&quot;cs.CL&quot;</td><td>[&quot;cs.CL&quot;, &quot;cs.AI&quot;]</td><td>&quot;http://arxiv.org/pdf/2308.0824…</td><td>&quot;http://arxiv.org/abs/2308.0824…</td></tr></tbody></table></div>"
      ],
      "text/plain": [
       "shape: (5, 8)\n",
       "┌────────────┬────────────┬────────────┬───────────┬───────────┬───────────┬───────────┬───────────┐\n",
       "│ title      ┆ authors    ┆ summary    ┆ published ┆ primary_c ┆ categorie ┆ pdf_url   ┆ entry_id  │\n",
       "│ ---        ┆ ---        ┆ ---        ┆ ---       ┆ ategory   ┆ s         ┆ ---       ┆ ---       │\n",
       "│ str        ┆ list[str]  ┆ str        ┆ datetime[ ┆ ---       ┆ ---       ┆ str       ┆ str       │\n",
       "│            ┆            ┆            ┆ μs]       ┆ str       ┆ list[str] ┆           ┆           │\n",
       "╞════════════╪════════════╪════════════╪═══════════╪═══════════╪═══════════╪═══════════╪═══════════╡\n",
       "│ Large      ┆ [\"Irene    ┆ Large      ┆ 2024-06-1 ┆ cs.SE     ┆ [\"cs.SE\", ┆ http://ar ┆ http://ar │\n",
       "│ Language   ┆ Weber\"]    ┆ Language   ┆ 3         ┆           ┆ \"cs.CL\",  ┆ xiv.org/p ┆ xiv.org/a │\n",
       "│ Models as  ┆            ┆ Models     ┆ 21:32:56  ┆           ┆ … \"A.1;   ┆ df/2406.1 ┆ bs/2406.1 │\n",
       "│ Softw…     ┆            ┆ (LLMs) h…  ┆           ┆           ┆ I.2…      ┆ 030…      ┆ 030…      │\n",
       "│ Parrot:    ┆ [\"Chaofan  ┆ The rise   ┆ 2024-05-3 ┆ cs.LG     ┆ [\"cs.LG\", ┆ http://ar ┆ http://ar │\n",
       "│ Efficient  ┆ Lin\",      ┆ of large   ┆ 0         ┆           ┆ \"cs.AI\"]  ┆ xiv.org/p ┆ xiv.org/a │\n",
       "│ Serving of ┆ \"Zhenhua   ┆ language   ┆ 09:46:36  ┆           ┆           ┆ df/2405.1 ┆ bs/2405.1 │\n",
       "│ L…         ┆ Han\",…     ┆ mod…       ┆           ┆           ┆           ┆ 988…      ┆ 988…      │\n",
       "│ A Survey   ┆ [\"Zibin    ┆ General    ┆ 2023-11-1 ┆ cs.SE     ┆ [\"cs.SE\"] ┆ http://ar ┆ http://ar │\n",
       "│ of Large   ┆ Zheng\",    ┆ large      ┆ 7         ┆           ┆           ┆ xiv.org/p ┆ xiv.org/a │\n",
       "│ Language   ┆ \"Kaiwen    ┆ language   ┆ 07:55:16  ┆           ┆           ┆ df/2311.1 ┆ bs/2311.1 │\n",
       "│ Mod…       ┆ Ning\",…    ┆ models …   ┆           ┆           ┆           ┆ 037…      ┆ 037…      │\n",
       "│ A Survey   ┆ [\"Wenbo    ┆ A graph is ┆ 2024-04-2 ┆ cs.CL     ┆ [\"cs.CL\", ┆ http://ar ┆ http://ar │\n",
       "│ of Large   ┆ Shang\",    ┆ a fundamen ┆ 3         ┆           ┆ \"cs.AI\",  ┆ xiv.org/p ┆ xiv.org/a │\n",
       "│ Language   ┆ \"Xin       ┆ tal data … ┆ 07:39:24  ┆           ┆ \"cs.DB\"]  ┆ df/2404.1 ┆ bs/2404.1 │\n",
       "│ Mod…       ┆ Huang\"]    ┆            ┆           ┆           ┆           ┆ 480…      ┆ 480…      │\n",
       "│ TEST: Text ┆ [\"Chenxi   ┆ This work  ┆ 2023-08-1 ┆ cs.CL     ┆ [\"cs.CL\", ┆ http://ar ┆ http://ar │\n",
       "│ Prototype  ┆ Sun\",      ┆ summarizes ┆ 6         ┆           ┆ \"cs.AI\"]  ┆ xiv.org/p ┆ xiv.org/a │\n",
       "│ Aligned E… ┆ \"Hongyan   ┆ two ways … ┆ 09:16:02  ┆           ┆           ┆ df/2308.0 ┆ bs/2308.0 │\n",
       "│            ┆ Li\", ……    ┆            ┆           ┆           ┆           ┆ 824…      ┆ 824…      │\n",
       "└────────────┴────────────┴────────────┴───────────┴───────────┴───────────┴───────────┴───────────┘"
      ]
     },
     "execution_count": 10,
     "metadata": {},
     "output_type": "execute_result"
    }
   ],
   "source": [
    "output_dataframe[\"dataframe\"].head()"
   ]
  },
  {
   "cell_type": "code",
   "execution_count": 11,
   "metadata": {},
   "outputs": [],
   "source": [
    "polars_converter = PolarsDataFrameConverter(\n",
    "    content_column=\"summary\",\n",
    "    meta_columns=[\"title\", \"authors\", \"published\", \"primary_category\", \"categories\", \"pdf_url\"],\n",
    ")"
   ]
  },
  {
   "cell_type": "code",
   "execution_count": 12,
   "metadata": {},
   "outputs": [
    {
     "data": {
      "text/plain": [
       "{'documents': [Document(id=c4fbde87ad579d0c39ebe835c996dc1b6fee182aca86b1ce71496f1fa970180a, content: 'Large Language Models (LLMs) have become widely adopted recently. Research\n",
       "  explores their use both a...', meta: {'title': 'Large Language Models as Software Components: A Taxonomy for LLM-Integrated Applications', 'authors': ['Irene Weber'], 'published': datetime.datetime(2024, 6, 13, 21, 32, 56), 'primary_category': 'cs.SE', 'categories': ['cs.SE', 'cs.CL', 'cs.LG', 'A.1; I.2.7; D.2.11'], 'pdf_url': 'http://arxiv.org/pdf/2406.10300v1'}),\n",
       "  Document(id=3f45abd46d3ffddf3178166b14c95f9efc5926765cd1f874f3ed89c4cfa14152, content: 'The rise of large language models (LLMs) has enabled LLM-based applications\n",
       "  (a.k.a. AI agents or co-...', meta: {'title': 'Parrot: Efficient Serving of LLM-based Applications with Semantic Variable', 'authors': ['Chaofan Lin', 'Zhenhua Han', 'Chengruidong Zhang', 'Yuqing Yang', 'Fan Yang', 'Chen Chen', 'Lili Qiu'], 'published': datetime.datetime(2024, 5, 30, 9, 46, 36), 'primary_category': 'cs.LG', 'categories': ['cs.LG', 'cs.AI'], 'pdf_url': 'http://arxiv.org/pdf/2405.19888v1'}),\n",
       "  Document(id=2702154691a919112848f4dde5e22d7ef687c3ef52b259fa35e4688bda71ecba, content: 'General large language models (LLMs), represented by ChatGPT, have\n",
       "  demonstrated significant potentia...', meta: {'title': 'A Survey of Large Language Models for Code: Evolution, Benchmarking, and Future Trends', 'authors': ['Zibin Zheng', 'Kaiwen Ning', 'Yanlin Wang', 'Jingwen Zhang', 'Dewu Zheng', 'Mingxi Ye', 'Jiachi Chen'], 'published': datetime.datetime(2023, 11, 17, 7, 55, 16), 'primary_category': 'cs.SE', 'categories': ['cs.SE'], 'pdf_url': 'http://arxiv.org/pdf/2311.10372v2'}),\n",
       "  Document(id=e12a87c3ad0193f1df442ee76eeb12eea9d24af4a80b6ea76c9af0f1d4ee8675, content: 'A graph is a fundamental data model to represent various entities and their\n",
       "  complex relationships in...', meta: {'title': 'A Survey of Large Language Models on Generative Graph Analytics: Query, Learning, and Applications', 'authors': ['Wenbo Shang', 'Xin Huang'], 'published': datetime.datetime(2024, 4, 23, 7, 39, 24), 'primary_category': 'cs.CL', 'categories': ['cs.CL', 'cs.AI', 'cs.DB'], 'pdf_url': 'http://arxiv.org/pdf/2404.14809v1'}),\n",
       "  Document(id=35967fa7acbb9084391de4d3d211ca12da8a3688e599b3039f077735fc946ea7, content: 'This work summarizes two ways to accomplish Time-Series (TS) tasks in today's\n",
       "  Large Language Model (...', meta: {'title': \"TEST: Text Prototype Aligned Embedding to Activate LLM's Ability for Time Series\", 'authors': ['Chenxi Sun', 'Hongyan Li', 'Yaliang Li', 'Shenda Hong'], 'published': datetime.datetime(2023, 8, 16, 9, 16, 2), 'primary_category': 'cs.CL', 'categories': ['cs.CL', 'cs.AI'], 'pdf_url': 'http://arxiv.org/pdf/2308.08241v2'}),\n",
       "  Document(id=745d6697c6e2fb135cfe008832c95dd7f00a6982dcfa2dfaab092bd7be554fd0, content: 'Large language models (LLMs) can label data faster and cheaper than humans\n",
       "  for various NLP tasks. De...', meta: {'title': 'MEGAnno+: A Human-LLM Collaborative Annotation System', 'authors': ['Hannah Kim', 'Kushan Mitra', 'Rafael Li Chen', 'Sajjadur Rahman', 'Dan Zhang'], 'published': datetime.datetime(2024, 2, 28, 4, 58, 7), 'primary_category': 'cs.CL', 'categories': ['cs.CL', 'cs.HC'], 'pdf_url': 'http://arxiv.org/pdf/2402.18050v1'}),\n",
       "  Document(id=0116aacda54b63b3313e3ac349901d51696934b90d870c6d47c46285693bc25b, content: 'Large Language Model (LLM) assistants, such as ChatGPT, have emerged as\n",
       "  potential alternatives to se...', meta: {'title': 'Why and When LLM-Based Assistants Can Go Wrong: Investigating the Effectiveness of Prompt-Based Interactions for Software Help-Seeking', 'authors': ['Anjali Khurana', 'Hari Subramonyam', 'Parmit K Chilana'], 'published': datetime.datetime(2024, 2, 12, 19, 49, 58), 'primary_category': 'cs.HC', 'categories': ['cs.HC', 'cs.AI', 'cs.LG'], 'pdf_url': 'http://arxiv.org/pdf/2402.08030v1'}),\n",
       "  Document(id=f86c4827d357ecd328aa965c2dc2d4cd1fa5a53fcc35fcf6fe08e5d2e7940c03, content: 'Since late 2022, Large Language Models (LLMs) have become very prominent with\n",
       "  LLMs like ChatGPT and ...', meta: {'title': 'On the Origin of LLMs: An Evolutionary Tree and Graph for 15,821 Large Language Models', 'authors': ['Sarah Gao', 'Andrew Kean Gao'], 'published': datetime.datetime(2023, 7, 19, 7, 17, 43), 'primary_category': 'cs.DL', 'categories': ['cs.DL', 'cs.CL', 'I.2.1; H.5.0'], 'pdf_url': 'http://arxiv.org/pdf/2307.09793v1'}),\n",
       "  Document(id=f5b686fa9275fb823ee0d379097104617336a4e148ed5d099b88b0daef6cf9dd, content: 'Misinformation such as fake news and rumors is a serious threat on\n",
       "  information ecosystems and public...', meta: {'title': 'Combating Misinformation in the Age of LLMs: Opportunities and Challenges', 'authors': ['Canyu Chen', 'Kai Shu'], 'published': datetime.datetime(2023, 11, 9, 0, 5, 27), 'primary_category': 'cs.CY', 'categories': ['cs.CY'], 'pdf_url': 'http://arxiv.org/pdf/2311.05656v1'}),\n",
       "  Document(id=a4ff52b2707b844c90ab03ea149e2b0077066c04fa29ee9a81262aa91e6f6810, content: 'Recent advancements in multimodal large language models (MLLMs) have achieved\n",
       "  significant multimodal...', meta: {'title': 'Towards Vision Enhancing LLMs: Empowering Multimodal Knowledge Storage and Sharing in LLMs', 'authors': ['Yunxin Li', 'Baotian Hu', 'Wei Wang', 'Xiaochun Cao', 'Min Zhang'], 'published': datetime.datetime(2023, 11, 27, 12, 29, 20), 'primary_category': 'cs.CL', 'categories': ['cs.CL', 'cs.AI', 'cs.CV'], 'pdf_url': 'http://arxiv.org/pdf/2311.15759v1'})]}"
      ]
     },
     "execution_count": 12,
     "metadata": {},
     "output_type": "execute_result"
    }
   ],
   "source": [
    "polars_converter.run(dataframe=output_dataframe[\"dataframe\"])"
   ]
  },
  {
   "cell_type": "markdown",
   "metadata": {},
   "source": [
    "If we want to use a column of the dataframe as unique identifier for documents, we can set the `index_column` parameter."
   ]
  },
  {
   "cell_type": "code",
   "execution_count": 13,
   "metadata": {},
   "outputs": [
    {
     "data": {
      "text/plain": [
       "{'documents': [Document(id=http://arxiv.org/abs/2406.10300v1, content: 'Large Language Models (LLMs) have become widely adopted recently. Research\n",
       "  explores their use both a...', meta: {'title': 'Large Language Models as Software Components: A Taxonomy for LLM-Integrated Applications', 'authors': ['Irene Weber'], 'published': datetime.datetime(2024, 6, 13, 21, 32, 56), 'primary_category': 'cs.SE', 'categories': ['cs.SE', 'cs.CL', 'cs.LG', 'A.1; I.2.7; D.2.11'], 'pdf_url': 'http://arxiv.org/pdf/2406.10300v1'}),\n",
       "  Document(id=http://arxiv.org/abs/2405.19888v1, content: 'The rise of large language models (LLMs) has enabled LLM-based applications\n",
       "  (a.k.a. AI agents or co-...', meta: {'title': 'Parrot: Efficient Serving of LLM-based Applications with Semantic Variable', 'authors': ['Chaofan Lin', 'Zhenhua Han', 'Chengruidong Zhang', 'Yuqing Yang', 'Fan Yang', 'Chen Chen', 'Lili Qiu'], 'published': datetime.datetime(2024, 5, 30, 9, 46, 36), 'primary_category': 'cs.LG', 'categories': ['cs.LG', 'cs.AI'], 'pdf_url': 'http://arxiv.org/pdf/2405.19888v1'}),\n",
       "  Document(id=http://arxiv.org/abs/2311.10372v2, content: 'General large language models (LLMs), represented by ChatGPT, have\n",
       "  demonstrated significant potentia...', meta: {'title': 'A Survey of Large Language Models for Code: Evolution, Benchmarking, and Future Trends', 'authors': ['Zibin Zheng', 'Kaiwen Ning', 'Yanlin Wang', 'Jingwen Zhang', 'Dewu Zheng', 'Mingxi Ye', 'Jiachi Chen'], 'published': datetime.datetime(2023, 11, 17, 7, 55, 16), 'primary_category': 'cs.SE', 'categories': ['cs.SE'], 'pdf_url': 'http://arxiv.org/pdf/2311.10372v2'}),\n",
       "  Document(id=http://arxiv.org/abs/2404.14809v1, content: 'A graph is a fundamental data model to represent various entities and their\n",
       "  complex relationships in...', meta: {'title': 'A Survey of Large Language Models on Generative Graph Analytics: Query, Learning, and Applications', 'authors': ['Wenbo Shang', 'Xin Huang'], 'published': datetime.datetime(2024, 4, 23, 7, 39, 24), 'primary_category': 'cs.CL', 'categories': ['cs.CL', 'cs.AI', 'cs.DB'], 'pdf_url': 'http://arxiv.org/pdf/2404.14809v1'}),\n",
       "  Document(id=http://arxiv.org/abs/2308.08241v2, content: 'This work summarizes two ways to accomplish Time-Series (TS) tasks in today's\n",
       "  Large Language Model (...', meta: {'title': \"TEST: Text Prototype Aligned Embedding to Activate LLM's Ability for Time Series\", 'authors': ['Chenxi Sun', 'Hongyan Li', 'Yaliang Li', 'Shenda Hong'], 'published': datetime.datetime(2023, 8, 16, 9, 16, 2), 'primary_category': 'cs.CL', 'categories': ['cs.CL', 'cs.AI'], 'pdf_url': 'http://arxiv.org/pdf/2308.08241v2'}),\n",
       "  Document(id=http://arxiv.org/abs/2402.18050v1, content: 'Large language models (LLMs) can label data faster and cheaper than humans\n",
       "  for various NLP tasks. De...', meta: {'title': 'MEGAnno+: A Human-LLM Collaborative Annotation System', 'authors': ['Hannah Kim', 'Kushan Mitra', 'Rafael Li Chen', 'Sajjadur Rahman', 'Dan Zhang'], 'published': datetime.datetime(2024, 2, 28, 4, 58, 7), 'primary_category': 'cs.CL', 'categories': ['cs.CL', 'cs.HC'], 'pdf_url': 'http://arxiv.org/pdf/2402.18050v1'}),\n",
       "  Document(id=http://arxiv.org/abs/2402.08030v1, content: 'Large Language Model (LLM) assistants, such as ChatGPT, have emerged as\n",
       "  potential alternatives to se...', meta: {'title': 'Why and When LLM-Based Assistants Can Go Wrong: Investigating the Effectiveness of Prompt-Based Interactions for Software Help-Seeking', 'authors': ['Anjali Khurana', 'Hari Subramonyam', 'Parmit K Chilana'], 'published': datetime.datetime(2024, 2, 12, 19, 49, 58), 'primary_category': 'cs.HC', 'categories': ['cs.HC', 'cs.AI', 'cs.LG'], 'pdf_url': 'http://arxiv.org/pdf/2402.08030v1'}),\n",
       "  Document(id=http://arxiv.org/abs/2307.09793v1, content: 'Since late 2022, Large Language Models (LLMs) have become very prominent with\n",
       "  LLMs like ChatGPT and ...', meta: {'title': 'On the Origin of LLMs: An Evolutionary Tree and Graph for 15,821 Large Language Models', 'authors': ['Sarah Gao', 'Andrew Kean Gao'], 'published': datetime.datetime(2023, 7, 19, 7, 17, 43), 'primary_category': 'cs.DL', 'categories': ['cs.DL', 'cs.CL', 'I.2.1; H.5.0'], 'pdf_url': 'http://arxiv.org/pdf/2307.09793v1'}),\n",
       "  Document(id=http://arxiv.org/abs/2311.05656v1, content: 'Misinformation such as fake news and rumors is a serious threat on\n",
       "  information ecosystems and public...', meta: {'title': 'Combating Misinformation in the Age of LLMs: Opportunities and Challenges', 'authors': ['Canyu Chen', 'Kai Shu'], 'published': datetime.datetime(2023, 11, 9, 0, 5, 27), 'primary_category': 'cs.CY', 'categories': ['cs.CY'], 'pdf_url': 'http://arxiv.org/pdf/2311.05656v1'}),\n",
       "  Document(id=http://arxiv.org/abs/2311.15759v1, content: 'Recent advancements in multimodal large language models (MLLMs) have achieved\n",
       "  significant multimodal...', meta: {'title': 'Towards Vision Enhancing LLMs: Empowering Multimodal Knowledge Storage and Sharing in LLMs', 'authors': ['Yunxin Li', 'Baotian Hu', 'Wei Wang', 'Xiaochun Cao', 'Min Zhang'], 'published': datetime.datetime(2023, 11, 27, 12, 29, 20), 'primary_category': 'cs.CL', 'categories': ['cs.CL', 'cs.AI', 'cs.CV'], 'pdf_url': 'http://arxiv.org/pdf/2311.15759v1'})]}"
      ]
     },
     "execution_count": 13,
     "metadata": {},
     "output_type": "execute_result"
    }
   ],
   "source": [
    "polars_converter = PolarsDataFrameConverter(\n",
    "    content_column=\"summary\",\n",
    "    meta_columns=[\"title\", \"authors\", \"published\", \"primary_category\", \"categories\", \"pdf_url\"],\n",
    "    index_column=\"entry_id\",\n",
    ")\n",
    "polars_converter.run(dataframe=output_dataframe[\"dataframe\"])"
   ]
  },
  {
   "cell_type": "markdown",
   "metadata": {},
   "source": [
    "### Using the components in a pipeline"
   ]
  },
  {
   "cell_type": "code",
   "execution_count": 14,
   "metadata": {},
   "outputs": [],
   "source": [
    "from haystack import Pipeline\n",
    "from haystack.components.writers import DocumentWriter\n",
    "from haystack.document_stores.in_memory import InMemoryDocumentStore"
   ]
  },
  {
   "cell_type": "code",
   "execution_count": 15,
   "metadata": {},
   "outputs": [
    {
     "data": {
      "image/png": "[encoded data removed]",
      "text/plain": [
       "<IPython.core.display.Image object>"
      ]
     },
     "metadata": {},
     "output_type": "display_data"
    }
   ],
   "source": [
    "document_store = InMemoryDocumentStore()\n",
    "\n",
    "indexing = Pipeline()\n",
    "indexing.add_component(\"file_to_polars\", FileToPolarsDataFrame(file_format=\"parquet\"))\n",
    "indexing.add_component(\n",
    "    \"dataframe_converter\",\n",
    "    PolarsDataFrameConverter(\n",
    "        content_column=\"summary\",\n",
    "        meta_columns=[\"title\", \"authors\", \"published\", \"primary_category\", \"categories\", \"pdf_url\"],\n",
    "    ),\n",
    ")\n",
    "indexing.add_component(\"writer\", DocumentWriter(document_store))\n",
    "indexing.connect(\"file_to_polars\", \"dataframe_converter\")\n",
    "indexing.connect(\"dataframe_converter\", \"writer\")\n",
    "indexing.show()"
   ]
  },
  {
   "cell_type": "code",
   "execution_count": 16,
   "metadata": {},
   "outputs": [
    {
     "data": {
      "text/plain": [
       "{'writer': {'documents_written': 10}}"
      ]
     },
     "execution_count": 16,
     "metadata": {},
     "output_type": "execute_result"
    }
   ],
   "source": [
    "indexing.run({\"file_to_polars\": {\"file_paths\": [temp_file.name]}})"
   ]
  },
  {
   "cell_type": "markdown",
   "metadata": {},
   "source": [
    "Saving the data in a temporary file."
   ]
  },
  {
   "cell_type": "code",
   "execution_count": 17,
   "metadata": {},
   "outputs": [],
   "source": [
    "# Cleanup\n",
    "# delete the temporary file\n",
    "from pathlib import Path\n",
    "\n",
    "Path(temp_file.name).unlink()"
   ]
  },
  {
   "cell_type": "code",
   "execution_count": null,
   "metadata": {},
   "outputs": [],
   "source": []
  }
 ],
 "metadata": {
  "kernelspec": {
   "display_name": "dataframes-haystack",
   "language": "python",
   "name": "python3"
  },
  "language_info": {
   "codemirror_mode": {
    "name": "ipython",
    "version": 3
   },
   "file_extension": ".py",
   "mimetype": "text/x-python",
   "name": "python",
   "nbconvert_exporter": "python",
   "pygments_lexer": "ipython3",
   "version": "3.8.19"
  }
 },
 "nbformat": 4,
 "nbformat_minor": 2
}
